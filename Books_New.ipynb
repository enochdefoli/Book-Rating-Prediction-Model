{
 "cells": [
  {
   "cell_type": "markdown",
   "id": "832f2806",
   "metadata": {},
   "source": [
    "## Goodreads Average Rating Prediction Using Linear Regression"
   ]
  },
  {
   "cell_type": "code",
   "execution_count": 649,
   "id": "061133ee",
   "metadata": {},
   "outputs": [],
   "source": [
    "import numpy as np\n",
    "import pandas as pd\n",
    "import matplotlib.pyplot as plt\n",
    "import seaborn as sns"
   ]
  },
  {
   "cell_type": "markdown",
   "id": "fe848b92",
   "metadata": {},
   "source": [
    "####  IMPORT BOOKS DATA FROM CSV FILE"
   ]
  },
  {
   "cell_type": "code",
   "execution_count": 650,
   "id": "7ee6a53b",
   "metadata": {},
   "outputs": [],
   "source": [
    "books_df = pd.read_csv(r\"C:\\Users\\user\\Documents\\DSTI- Data Analytics Class A21\\Lectures\\Python\\ClassProject\\books.csv\",sep=\",\",index_col=\"bookID\")"
   ]
  },
  {
   "cell_type": "markdown",
   "id": "a498034f",
   "metadata": {},
   "source": [
    "### 1.  Feature Engineering "
   ]
  },
  {
   "cell_type": "code",
   "execution_count": 651,
   "id": "d618e493",
   "metadata": {},
   "outputs": [
    {
     "data": {
      "text/html": [
       "<div>\n",
       "<style scoped>\n",
       "    .dataframe tbody tr th:only-of-type {\n",
       "        vertical-align: middle;\n",
       "    }\n",
       "\n",
       "    .dataframe tbody tr th {\n",
       "        vertical-align: top;\n",
       "    }\n",
       "\n",
       "    .dataframe thead th {\n",
       "        text-align: right;\n",
       "    }\n",
       "</style>\n",
       "<table border=\"1\" class=\"dataframe\">\n",
       "  <thead>\n",
       "    <tr style=\"text-align: right;\">\n",
       "      <th></th>\n",
       "      <th>title</th>\n",
       "      <th>authors</th>\n",
       "      <th>average_rating</th>\n",
       "      <th>isbn</th>\n",
       "      <th>isbn13</th>\n",
       "      <th>language_code</th>\n",
       "      <th>num_pages</th>\n",
       "      <th>ratings_count</th>\n",
       "      <th>text_reviews_count</th>\n",
       "      <th>publication_date</th>\n",
       "      <th>publisher</th>\n",
       "    </tr>\n",
       "    <tr>\n",
       "      <th>bookID</th>\n",
       "      <th></th>\n",
       "      <th></th>\n",
       "      <th></th>\n",
       "      <th></th>\n",
       "      <th></th>\n",
       "      <th></th>\n",
       "      <th></th>\n",
       "      <th></th>\n",
       "      <th></th>\n",
       "      <th></th>\n",
       "      <th></th>\n",
       "    </tr>\n",
       "  </thead>\n",
       "  <tbody>\n",
       "    <tr>\n",
       "      <th>2034</th>\n",
       "      <td>Comoediae 1: Acharenses/Equites/Nubes/Vespae/P...</td>\n",
       "      <td>Aristophanes/F.W. Hall/W.M. Geldart</td>\n",
       "      <td>5.0</td>\n",
       "      <td>0198145047</td>\n",
       "      <td>9.780200e+12</td>\n",
       "      <td>grc</td>\n",
       "      <td>364</td>\n",
       "      <td>0</td>\n",
       "      <td>0.0</td>\n",
       "      <td>2/22/1922</td>\n",
       "      <td>Oxford University Press  USA</td>\n",
       "    </tr>\n",
       "    <tr>\n",
       "      <th>2560</th>\n",
       "      <td>Willem de Kooning: Late Paintings</td>\n",
       "      <td>Julie Sylvester/David Sylvester</td>\n",
       "      <td>5.0</td>\n",
       "      <td>382960226X</td>\n",
       "      <td>9.783830e+12</td>\n",
       "      <td>eng</td>\n",
       "      <td>83</td>\n",
       "      <td>1</td>\n",
       "      <td>0.0</td>\n",
       "      <td>9/1/2006</td>\n",
       "      <td>Schirmer Mosel</td>\n",
       "    </tr>\n",
       "    <tr>\n",
       "      <th>2843</th>\n",
       "      <td>Literature Circle Guide: Bridge to Terabithia:...</td>\n",
       "      <td>Tara MacCarthy</td>\n",
       "      <td>5.0</td>\n",
       "      <td>0439271711</td>\n",
       "      <td>9.780440e+12</td>\n",
       "      <td>eng</td>\n",
       "      <td>32</td>\n",
       "      <td>4</td>\n",
       "      <td>1.0</td>\n",
       "      <td>1/1/2002</td>\n",
       "      <td>Teaching Resources</td>\n",
       "    </tr>\n",
       "    <tr>\n",
       "      <th>4287</th>\n",
       "      <td>Middlesex Borough (Images of America: New Jersey)</td>\n",
       "      <td>Middlesex Borough Heritage Committee</td>\n",
       "      <td>5.0</td>\n",
       "      <td>0738511676</td>\n",
       "      <td>9.780740e+12</td>\n",
       "      <td>eng</td>\n",
       "      <td>128</td>\n",
       "      <td>2</td>\n",
       "      <td>0.0</td>\n",
       "      <td>3/17/2003</td>\n",
       "      <td>Arcadia Publishing</td>\n",
       "    </tr>\n",
       "    <tr>\n",
       "      <th>14741</th>\n",
       "      <td>Zone of the Enders: The 2nd Runner Official St...</td>\n",
       "      <td>Tim Bogenn</td>\n",
       "      <td>5.0</td>\n",
       "      <td>0744002354</td>\n",
       "      <td>9.780740e+12</td>\n",
       "      <td>eng</td>\n",
       "      <td>128</td>\n",
       "      <td>2</td>\n",
       "      <td>0.0</td>\n",
       "      <td>3/6/2003</td>\n",
       "      <td>BradyGames</td>\n",
       "    </tr>\n",
       "  </tbody>\n",
       "</table>\n",
       "</div>"
      ],
      "text/plain": [
       "                                                    title  \\\n",
       "bookID                                                      \n",
       "2034    Comoediae 1: Acharenses/Equites/Nubes/Vespae/P...   \n",
       "2560                    Willem de Kooning: Late Paintings   \n",
       "2843    Literature Circle Guide: Bridge to Terabithia:...   \n",
       "4287    Middlesex Borough (Images of America: New Jersey)   \n",
       "14741   Zone of the Enders: The 2nd Runner Official St...   \n",
       "\n",
       "                                     authors  average_rating        isbn  \\\n",
       "bookID                                                                     \n",
       "2034     Aristophanes/F.W. Hall/W.M. Geldart             5.0  0198145047   \n",
       "2560         Julie Sylvester/David Sylvester             5.0  382960226X   \n",
       "2843                          Tara MacCarthy             5.0  0439271711   \n",
       "4287    Middlesex Borough Heritage Committee             5.0  0738511676   \n",
       "14741                             Tim Bogenn             5.0  0744002354   \n",
       "\n",
       "              isbn13 language_code    num_pages  ratings_count  \\\n",
       "bookID                                                           \n",
       "2034    9.780200e+12           grc          364              0   \n",
       "2560    9.783830e+12           eng           83              1   \n",
       "2843    9.780440e+12           eng           32              4   \n",
       "4287    9.780740e+12           eng          128              2   \n",
       "14741   9.780740e+12           eng          128              2   \n",
       "\n",
       "        text_reviews_count publication_date                     publisher  \n",
       "bookID                                                                     \n",
       "2034                   0.0        2/22/1922  Oxford University Press  USA  \n",
       "2560                   0.0         9/1/2006                Schirmer Mosel  \n",
       "2843                   1.0         1/1/2002            Teaching Resources  \n",
       "4287                   0.0        3/17/2003            Arcadia Publishing  \n",
       "14741                  0.0         3/6/2003                    BradyGames  "
      ]
     },
     "execution_count": 651,
     "metadata": {},
     "output_type": "execute_result"
    }
   ],
   "source": [
    " # View the books dataset to see is loaded correctly\n",
    "books_df.head()"
   ]
  },
  {
   "cell_type": "code",
   "execution_count": 653,
   "id": "f372d98c",
   "metadata": {},
   "outputs": [
    {
     "data": {
      "text/html": [
       "<div>\n",
       "<style scoped>\n",
       "    .dataframe tbody tr th:only-of-type {\n",
       "        vertical-align: middle;\n",
       "    }\n",
       "\n",
       "    .dataframe tbody tr th {\n",
       "        vertical-align: top;\n",
       "    }\n",
       "\n",
       "    .dataframe thead th {\n",
       "        text-align: right;\n",
       "    }\n",
       "</style>\n",
       "<table border=\"1\" class=\"dataframe\">\n",
       "  <thead>\n",
       "    <tr style=\"text-align: right;\">\n",
       "      <th></th>\n",
       "      <th>average_rating</th>\n",
       "      <th>isbn13</th>\n",
       "      <th>num_pages</th>\n",
       "      <th>ratings_count</th>\n",
       "      <th>text_reviews_count</th>\n",
       "    </tr>\n",
       "  </thead>\n",
       "  <tbody>\n",
       "    <tr>\n",
       "      <th>count</th>\n",
       "      <td>11127.000000</td>\n",
       "      <td>1.112700e+04</td>\n",
       "      <td>11127.000000</td>\n",
       "      <td>1.112700e+04</td>\n",
       "      <td>11123.000000</td>\n",
       "    </tr>\n",
       "    <tr>\n",
       "      <th>mean</th>\n",
       "      <td>3.933631</td>\n",
       "      <td>9.759888e+12</td>\n",
       "      <td>336.376921</td>\n",
       "      <td>1.793641e+04</td>\n",
       "      <td>542.048099</td>\n",
       "    </tr>\n",
       "    <tr>\n",
       "      <th>std</th>\n",
       "      <td>0.352445</td>\n",
       "      <td>4.428964e+11</td>\n",
       "      <td>241.127305</td>\n",
       "      <td>1.124794e+05</td>\n",
       "      <td>2576.619589</td>\n",
       "    </tr>\n",
       "    <tr>\n",
       "      <th>min</th>\n",
       "      <td>0.000000</td>\n",
       "      <td>8.987060e+09</td>\n",
       "      <td>0.000000</td>\n",
       "      <td>0.000000e+00</td>\n",
       "      <td>0.000000</td>\n",
       "    </tr>\n",
       "    <tr>\n",
       "      <th>25%</th>\n",
       "      <td>3.770000</td>\n",
       "      <td>9.780350e+12</td>\n",
       "      <td>192.000000</td>\n",
       "      <td>1.040000e+02</td>\n",
       "      <td>9.000000</td>\n",
       "    </tr>\n",
       "    <tr>\n",
       "      <th>50%</th>\n",
       "      <td>3.960000</td>\n",
       "      <td>9.780590e+12</td>\n",
       "      <td>299.000000</td>\n",
       "      <td>7.450000e+02</td>\n",
       "      <td>47.000000</td>\n",
       "    </tr>\n",
       "    <tr>\n",
       "      <th>75%</th>\n",
       "      <td>4.135000</td>\n",
       "      <td>9.780870e+12</td>\n",
       "      <td>416.000000</td>\n",
       "      <td>4.993500e+03</td>\n",
       "      <td>238.000000</td>\n",
       "    </tr>\n",
       "    <tr>\n",
       "      <th>max</th>\n",
       "      <td>5.000000</td>\n",
       "      <td>9.790010e+12</td>\n",
       "      <td>6576.000000</td>\n",
       "      <td>4.597666e+06</td>\n",
       "      <td>94265.000000</td>\n",
       "    </tr>\n",
       "  </tbody>\n",
       "</table>\n",
       "</div>"
      ],
      "text/plain": [
       "       average_rating        isbn13     num_pages  ratings_count  \\\n",
       "count    11127.000000  1.112700e+04  11127.000000   1.112700e+04   \n",
       "mean         3.933631  9.759888e+12    336.376921   1.793641e+04   \n",
       "std          0.352445  4.428964e+11    241.127305   1.124794e+05   \n",
       "min          0.000000  8.987060e+09      0.000000   0.000000e+00   \n",
       "25%          3.770000  9.780350e+12    192.000000   1.040000e+02   \n",
       "50%          3.960000  9.780590e+12    299.000000   7.450000e+02   \n",
       "75%          4.135000  9.780870e+12    416.000000   4.993500e+03   \n",
       "max          5.000000  9.790010e+12   6576.000000   4.597666e+06   \n",
       "\n",
       "       text_reviews_count  \n",
       "count        11123.000000  \n",
       "mean           542.048099  \n",
       "std           2576.619589  \n",
       "min              0.000000  \n",
       "25%              9.000000  \n",
       "50%             47.000000  \n",
       "75%            238.000000  \n",
       "max          94265.000000  "
      ]
     },
     "execution_count": 653,
     "metadata": {},
     "output_type": "execute_result"
    }
   ],
   "source": [
    "# Basic statistical analysis on the dataset\n",
    "# The number of records in the dataset is 11,127\n",
    "books_df.describe()"
   ]
  },
  {
   "cell_type": "code",
   "execution_count": 654,
   "id": "d33b25f1",
   "metadata": {},
   "outputs": [
    {
     "data": {
      "text/plain": [
       "title                  object\n",
       "authors                object\n",
       "average_rating        float64\n",
       "isbn                   object\n",
       "isbn13                float64\n",
       "language_code          object\n",
       "  num_pages             int64\n",
       "ratings_count           int64\n",
       "text_reviews_count    float64\n",
       "publication_date       object\n",
       "publisher              object\n",
       "dtype: object"
      ]
     },
     "execution_count": 654,
     "metadata": {},
     "output_type": "execute_result"
    }
   ],
   "source": [
    "# Identify the datatypes for the columns\n",
    "books_df.dtypes"
   ]
  },
  {
   "cell_type": "code",
   "execution_count": 655,
   "id": "23062ec0",
   "metadata": {},
   "outputs": [
    {
     "data": {
      "text/plain": [
       "title                 0\n",
       "authors               0\n",
       "average_rating        0\n",
       "isbn                  1\n",
       "isbn13                0\n",
       "language_code         4\n",
       "  num_pages           0\n",
       "ratings_count         0\n",
       "text_reviews_count    4\n",
       "publication_date      2\n",
       "publisher             4\n",
       "dtype: int64"
      ]
     },
     "execution_count": 655,
     "metadata": {},
     "output_type": "execute_result"
    }
   ],
   "source": [
    "# Check for null values\n",
    "books_df.isna().sum()"
   ]
  },
  {
   "cell_type": "code",
   "execution_count": 656,
   "id": "ec62a4de",
   "metadata": {},
   "outputs": [],
   "source": [
    "# Drop the columns isbn and isbn13, because it has no impact on the target variable \"Average rating\"\n",
    "books_df = books_df.drop([\"isbn\",\"isbn13\"],axis=1)"
   ]
  },
  {
   "cell_type": "markdown",
   "id": "825236b6",
   "metadata": {},
   "source": [
    "#####  Clean the column \"language_code\" "
   ]
  },
  {
   "cell_type": "code",
   "execution_count": 657,
   "id": "7338e90c",
   "metadata": {},
   "outputs": [
    {
     "data": {
      "text/html": [
       "<div>\n",
       "<style scoped>\n",
       "    .dataframe tbody tr th:only-of-type {\n",
       "        vertical-align: middle;\n",
       "    }\n",
       "\n",
       "    .dataframe tbody tr th {\n",
       "        vertical-align: top;\n",
       "    }\n",
       "\n",
       "    .dataframe thead th {\n",
       "        text-align: right;\n",
       "    }\n",
       "</style>\n",
       "<table border=\"1\" class=\"dataframe\">\n",
       "  <thead>\n",
       "    <tr style=\"text-align: right;\">\n",
       "      <th></th>\n",
       "      <th>title</th>\n",
       "      <th>authors</th>\n",
       "      <th>average_rating</th>\n",
       "      <th>language_code</th>\n",
       "      <th>num_pages</th>\n",
       "      <th>ratings_count</th>\n",
       "      <th>text_reviews_count</th>\n",
       "      <th>publication_date</th>\n",
       "      <th>publisher</th>\n",
       "    </tr>\n",
       "    <tr>\n",
       "      <th>bookID</th>\n",
       "      <th></th>\n",
       "      <th></th>\n",
       "      <th></th>\n",
       "      <th></th>\n",
       "      <th></th>\n",
       "      <th></th>\n",
       "      <th></th>\n",
       "      <th></th>\n",
       "      <th></th>\n",
       "    </tr>\n",
       "  </thead>\n",
       "  <tbody>\n",
       "    <tr>\n",
       "      <th>12224</th>\n",
       "      <td>Streetcar Suburbs: The Process of Growth in Bo...</td>\n",
       "      <td>Sam Bass Warner</td>\n",
       "      <td>3.58</td>\n",
       "      <td>NaN</td>\n",
       "      <td>236</td>\n",
       "      <td>61</td>\n",
       "      <td>NaN</td>\n",
       "      <td>4/20/2004</td>\n",
       "      <td>NaN</td>\n",
       "    </tr>\n",
       "    <tr>\n",
       "      <th>16914</th>\n",
       "      <td>The Tolkien Fan's Medieval Reader</td>\n",
       "      <td>David E. Smith (Turgon of TheOneRing.net</td>\n",
       "      <td>3.58</td>\n",
       "      <td>NaN</td>\n",
       "      <td>400</td>\n",
       "      <td>26</td>\n",
       "      <td>NaN</td>\n",
       "      <td>4/6/2004</td>\n",
       "      <td>NaN</td>\n",
       "    </tr>\n",
       "    <tr>\n",
       "      <th>22128</th>\n",
       "      <td>Patriots (The Coming Collapse)</td>\n",
       "      <td>James Wesley</td>\n",
       "      <td>3.63</td>\n",
       "      <td>NaN</td>\n",
       "      <td>342</td>\n",
       "      <td>38</td>\n",
       "      <td>NaN</td>\n",
       "      <td>1/15/1999</td>\n",
       "      <td>NaN</td>\n",
       "    </tr>\n",
       "    <tr>\n",
       "      <th>34889</th>\n",
       "      <td>Brown's Star Atlas: Showing All The Bright Sta...</td>\n",
       "      <td>Brown</td>\n",
       "      <td>0.00</td>\n",
       "      <td>NaN</td>\n",
       "      <td>49</td>\n",
       "      <td>0</td>\n",
       "      <td>NaN</td>\n",
       "      <td>5/1/1977</td>\n",
       "      <td>NaN</td>\n",
       "    </tr>\n",
       "  </tbody>\n",
       "</table>\n",
       "</div>"
      ],
      "text/plain": [
       "                                                    title  \\\n",
       "bookID                                                      \n",
       "12224   Streetcar Suburbs: The Process of Growth in Bo...   \n",
       "16914                   The Tolkien Fan's Medieval Reader   \n",
       "22128                      Patriots (The Coming Collapse)   \n",
       "34889   Brown's Star Atlas: Showing All The Bright Sta...   \n",
       "\n",
       "                                         authors  average_rating  \\\n",
       "bookID                                                             \n",
       "12224                            Sam Bass Warner            3.58   \n",
       "16914   David E. Smith (Turgon of TheOneRing.net            3.58   \n",
       "22128                               James Wesley            3.63   \n",
       "34889                                      Brown            0.00   \n",
       "\n",
       "       language_code    num_pages  ratings_count  text_reviews_count  \\\n",
       "bookID                                                                 \n",
       "12224            NaN          236             61                 NaN   \n",
       "16914            NaN          400             26                 NaN   \n",
       "22128            NaN          342             38                 NaN   \n",
       "34889            NaN           49              0                 NaN   \n",
       "\n",
       "       publication_date publisher  \n",
       "bookID                             \n",
       "12224         4/20/2004       NaN  \n",
       "16914          4/6/2004       NaN  \n",
       "22128         1/15/1999       NaN  \n",
       "34889          5/1/1977       NaN  "
      ]
     },
     "execution_count": 657,
     "metadata": {},
     "output_type": "execute_result"
    }
   ],
   "source": [
    "# select null valus for language_code\n",
    "books_df.loc[books_df.language_code.isna(),:]"
   ]
  },
  {
   "cell_type": "code",
   "execution_count": 658,
   "id": "7c756fd1",
   "metadata": {},
   "outputs": [],
   "source": [
    "# Replace the null values with the language code \"eng\", I choose \"eng\" because the title of the books are in english.\n",
    "books_df.loc[books_df.language_code.isna(),\"language_code\"] = \"eng\""
   ]
  },
  {
   "cell_type": "code",
   "execution_count": 662,
   "id": "43700b96",
   "metadata": {},
   "outputs": [
    {
     "data": {
      "text/plain": [
       "eng    10541\n",
       "spa      218\n",
       "fre      144\n",
       "ger       99\n",
       "jpn       46\n",
       "mul       19\n",
       "zho       14\n",
       "grc       11\n",
       "por       10\n",
       "ita        5\n",
       "lat        3\n",
       "enm        3\n",
       "rus        2\n",
       "swe        2\n",
       "nor        1\n",
       "nl         1\n",
       "glg        1\n",
       "gla        1\n",
       "srp        1\n",
       "msa        1\n",
       "tur        1\n",
       "wel        1\n",
       "ale        1\n",
       "ara        1\n",
       "Name: language_code, dtype: int64"
      ]
     },
     "execution_count": 662,
     "metadata": {},
     "output_type": "execute_result"
    }
   ],
   "source": [
    "# find distinct values for language_code, and whenever there are different codes with the same meanining we merge to become one.\n",
    "books_df.language_code.value_counts()"
   ]
  },
  {
   "cell_type": "code",
   "execution_count": 660,
   "id": "13373970",
   "metadata": {},
   "outputs": [
    {
     "data": {
      "text/plain": [
       "{'ale',\n",
       " 'ara',\n",
       " 'en-CA',\n",
       " 'en-GB',\n",
       " 'en-US',\n",
       " 'eng',\n",
       " 'enm',\n",
       " 'fre',\n",
       " 'ger',\n",
       " 'gla',\n",
       " 'glg',\n",
       " 'grc',\n",
       " 'ita',\n",
       " 'jpn',\n",
       " 'lat',\n",
       " 'msa',\n",
       " 'mul',\n",
       " 'nl',\n",
       " 'nor',\n",
       " 'por',\n",
       " 'rus',\n",
       " 'spa',\n",
       " 'srp',\n",
       " 'swe',\n",
       " 'tur',\n",
       " 'wel',\n",
       " 'zho'}"
      ]
     },
     "execution_count": 660,
     "metadata": {},
     "output_type": "execute_result"
    }
   ],
   "source": [
    "# Merge the Language codes: en-US, en-GB,en-CA to eng\n",
    "# select the language_code as series and then convert it into a set\n",
    "list_of_lang = set(books_df[\"language_code\"])\n",
    "list_of_lang"
   ]
  },
  {
   "cell_type": "code",
   "execution_count": 661,
   "id": "40b479bd",
   "metadata": {},
   "outputs": [],
   "source": [
    "# Create a uniformity in the columm 'language_code'\n",
    "for i in list_of_lang:\n",
    "    if i == \"English\":\n",
    "        books_df.loc[books_df['language_code'] == i,\"language_code\"] = \"eng\"\n",
    "    elif i == \"en-US\":\n",
    "        books_df.loc[books_df['language_code'] == i,\"language_code\"] = \"eng\"  \n",
    "    elif i == \"en-GB\":\n",
    "        books_df.loc[books_df['language_code'] == i,\"language_code\"] = \"eng\"\n",
    "    elif i == \"en-CA\":\n",
    "        books_df.loc[books_df['language_code'] == i,\"language_code\"] = \"eng\"\n",
    "    elif i == \"French\":\n",
    "        books_df.loc[books_df['language_code'] == i,\"language_code\"] = \"fre\""
   ]
  },
  {
   "cell_type": "markdown",
   "id": "9b0dfbb1",
   "metadata": {},
   "source": [
    "######  Clean the column \"publication_date\""
   ]
  },
  {
   "cell_type": "code",
   "execution_count": 663,
   "id": "3a7d2022",
   "metadata": {},
   "outputs": [
    {
     "data": {
      "text/html": [
       "<div>\n",
       "<style scoped>\n",
       "    .dataframe tbody tr th:only-of-type {\n",
       "        vertical-align: middle;\n",
       "    }\n",
       "\n",
       "    .dataframe tbody tr th {\n",
       "        vertical-align: top;\n",
       "    }\n",
       "\n",
       "    .dataframe thead th {\n",
       "        text-align: right;\n",
       "    }\n",
       "</style>\n",
       "<table border=\"1\" class=\"dataframe\">\n",
       "  <thead>\n",
       "    <tr style=\"text-align: right;\">\n",
       "      <th></th>\n",
       "      <th>title</th>\n",
       "      <th>authors</th>\n",
       "      <th>average_rating</th>\n",
       "      <th>language_code</th>\n",
       "      <th>num_pages</th>\n",
       "      <th>ratings_count</th>\n",
       "      <th>text_reviews_count</th>\n",
       "      <th>publication_date</th>\n",
       "      <th>publisher</th>\n",
       "    </tr>\n",
       "    <tr>\n",
       "      <th>bookID</th>\n",
       "      <th></th>\n",
       "      <th></th>\n",
       "      <th></th>\n",
       "      <th></th>\n",
       "      <th></th>\n",
       "      <th></th>\n",
       "      <th></th>\n",
       "      <th></th>\n",
       "      <th></th>\n",
       "    </tr>\n",
       "  </thead>\n",
       "  <tbody>\n",
       "    <tr>\n",
       "      <th>31373</th>\n",
       "      <td>In Pursuit of the Proper Sinner (Inspector Lyn...</td>\n",
       "      <td>Elizabeth  George</td>\n",
       "      <td>4.10</td>\n",
       "      <td>eng</td>\n",
       "      <td>718</td>\n",
       "      <td>10608</td>\n",
       "      <td>295.0</td>\n",
       "      <td>NaN</td>\n",
       "      <td>Bantam Books</td>\n",
       "    </tr>\n",
       "    <tr>\n",
       "      <th>45531</th>\n",
       "      <td>Montaillou  village occitan de 1294 à 1324</td>\n",
       "      <td>Emmanuel Le Roy Ladurie/Emmanuel Le Roy-Ladurie</td>\n",
       "      <td>3.96</td>\n",
       "      <td>fre</td>\n",
       "      <td>640</td>\n",
       "      <td>15</td>\n",
       "      <td>2.0</td>\n",
       "      <td>NaN</td>\n",
       "      <td>Folio histoire</td>\n",
       "    </tr>\n",
       "  </tbody>\n",
       "</table>\n",
       "</div>"
      ],
      "text/plain": [
       "                                                    title  \\\n",
       "bookID                                                      \n",
       "31373   In Pursuit of the Proper Sinner (Inspector Lyn...   \n",
       "45531          Montaillou  village occitan de 1294 à 1324   \n",
       "\n",
       "                                                authors  average_rating  \\\n",
       "bookID                                                                    \n",
       "31373                                 Elizabeth  George            4.10   \n",
       "45531   Emmanuel Le Roy Ladurie/Emmanuel Le Roy-Ladurie            3.96   \n",
       "\n",
       "       language_code    num_pages  ratings_count  text_reviews_count  \\\n",
       "bookID                                                                 \n",
       "31373            eng          718          10608               295.0   \n",
       "45531            fre          640             15                 2.0   \n",
       "\n",
       "       publication_date       publisher  \n",
       "bookID                                   \n",
       "31373               NaN    Bantam Books  \n",
       "45531               NaN  Folio histoire  "
      ]
     },
     "execution_count": 663,
     "metadata": {},
     "output_type": "execute_result"
    }
   ],
   "source": [
    "books_df.loc[books_df.publication_date.isna(),:]"
   ]
  },
  {
   "cell_type": "code",
   "execution_count": 337,
   "id": "b5d79493",
   "metadata": {},
   "outputs": [
    {
     "data": {
      "text/html": [
       "<div>\n",
       "<style scoped>\n",
       "    .dataframe tbody tr th:only-of-type {\n",
       "        vertical-align: middle;\n",
       "    }\n",
       "\n",
       "    .dataframe tbody tr th {\n",
       "        vertical-align: top;\n",
       "    }\n",
       "\n",
       "    .dataframe thead th {\n",
       "        text-align: right;\n",
       "    }\n",
       "</style>\n",
       "<table border=\"1\" class=\"dataframe\">\n",
       "  <thead>\n",
       "    <tr style=\"text-align: right;\">\n",
       "      <th></th>\n",
       "      <th>bookID</th>\n",
       "      <th>title</th>\n",
       "      <th>authors</th>\n",
       "      <th>average_rating</th>\n",
       "      <th>language_code</th>\n",
       "      <th>num_pages</th>\n",
       "      <th>ratings_count</th>\n",
       "      <th>text_reviews_count</th>\n",
       "      <th>publication_date</th>\n",
       "      <th>publisher</th>\n",
       "    </tr>\n",
       "  </thead>\n",
       "  <tbody>\n",
       "    <tr>\n",
       "      <th>5632</th>\n",
       "      <td>45529</td>\n",
       "      <td>Montaillou: The Promised Land of Error</td>\n",
       "      <td>Emmanuel Le Roy Ladurie/Barbara Bray</td>\n",
       "      <td>3.96</td>\n",
       "      <td>eng</td>\n",
       "      <td>416</td>\n",
       "      <td>1142</td>\n",
       "      <td>62.0</td>\n",
       "      <td>7/12/1979</td>\n",
       "      <td>Vintage/Random House (NY)</td>\n",
       "    </tr>\n",
       "    <tr>\n",
       "      <th>5633</th>\n",
       "      <td>45530</td>\n",
       "      <td>Montaillou: Cathars and Catholics in a French ...</td>\n",
       "      <td>Emmanuel Le Roy Ladurie/Barbara Bray</td>\n",
       "      <td>3.96</td>\n",
       "      <td>eng</td>\n",
       "      <td>400</td>\n",
       "      <td>80</td>\n",
       "      <td>14.0</td>\n",
       "      <td>12/5/2002</td>\n",
       "      <td>Penguin</td>\n",
       "    </tr>\n",
       "    <tr>\n",
       "      <th>5634</th>\n",
       "      <td>45531</td>\n",
       "      <td>Montaillou  village occitan de 1294 à 1324</td>\n",
       "      <td>Emmanuel Le Roy Ladurie/Emmanuel Le Roy-Ladurie</td>\n",
       "      <td>3.96</td>\n",
       "      <td>fre</td>\n",
       "      <td>640</td>\n",
       "      <td>15</td>\n",
       "      <td>2.0</td>\n",
       "      <td>NaN</td>\n",
       "      <td>Folio histoire</td>\n",
       "    </tr>\n",
       "    <tr>\n",
       "      <th>5635</th>\n",
       "      <td>45533</td>\n",
       "      <td>Montaillou: Cathars and Catholics in a French ...</td>\n",
       "      <td>Emmanuel Le Roy Ladurie/Barbara Bray</td>\n",
       "      <td>3.96</td>\n",
       "      <td>en-GB</td>\n",
       "      <td>400</td>\n",
       "      <td>17</td>\n",
       "      <td>2.0</td>\n",
       "      <td>5/29/1980</td>\n",
       "      <td>Penguin Books Ltd.</td>\n",
       "    </tr>\n",
       "  </tbody>\n",
       "</table>\n",
       "</div>"
      ],
      "text/plain": [
       "      bookID                                              title  \\\n",
       "5632   45529             Montaillou: The Promised Land of Error   \n",
       "5633   45530  Montaillou: Cathars and Catholics in a French ...   \n",
       "5634   45531         Montaillou  village occitan de 1294 à 1324   \n",
       "5635   45533  Montaillou: Cathars and Catholics in a French ...   \n",
       "\n",
       "                                              authors  average_rating  \\\n",
       "5632             Emmanuel Le Roy Ladurie/Barbara Bray            3.96   \n",
       "5633             Emmanuel Le Roy Ladurie/Barbara Bray            3.96   \n",
       "5634  Emmanuel Le Roy Ladurie/Emmanuel Le Roy-Ladurie            3.96   \n",
       "5635             Emmanuel Le Roy Ladurie/Barbara Bray            3.96   \n",
       "\n",
       "     language_code    num_pages  ratings_count  text_reviews_count  \\\n",
       "5632           eng          416           1142                62.0   \n",
       "5633           eng          400             80                14.0   \n",
       "5634           fre          640             15                 2.0   \n",
       "5635         en-GB          400             17                 2.0   \n",
       "\n",
       "     publication_date                  publisher  \n",
       "5632        7/12/1979  Vintage/Random House (NY)  \n",
       "5633        12/5/2002                    Penguin  \n",
       "5634              NaN             Folio histoire  \n",
       "5635        5/29/1980         Penguin Books Ltd.  "
      ]
     },
     "execution_count": 337,
     "metadata": {},
     "output_type": "execute_result"
    }
   ],
   "source": [
    "# Identify records with the same title but with not null publication date. To replace the null date. \n",
    "books_df[books_df['title'].str.contains('Montaillou', na=False)]"
   ]
  },
  {
   "cell_type": "code",
   "execution_count": 666,
   "id": "b954bdce",
   "metadata": {},
   "outputs": [
    {
     "data": {
      "text/plain": [
       "(11125, 9)"
      ]
     },
     "execution_count": 666,
     "metadata": {},
     "output_type": "execute_result"
    }
   ],
   "source": [
    "# Number of DataFrame rows and columns (including NA elements)\n",
    "books_df.shape"
   ]
  },
  {
   "cell_type": "code",
   "execution_count": 665,
   "id": "bf102afd",
   "metadata": {},
   "outputs": [],
   "source": [
    "# only one record for the title with nullpublication date.It can therefore be dropped\n",
    "# Remove the records that have publication_date null\n",
    "books_df = books_df.loc[books_df['publication_date'].notna(),:]"
   ]
  },
  {
   "cell_type": "code",
   "execution_count": 667,
   "id": "a1a5575b",
   "metadata": {},
   "outputs": [
    {
     "data": {
      "text/plain": [
       "Series([], Name: publication_date, dtype: object)"
      ]
     },
     "execution_count": 667,
     "metadata": {},
     "output_type": "execute_result"
    }
   ],
   "source": [
    "# Clean incorrect date value \n",
    "books_df.loc[books_df['publication_date']==\"1/1/1900 0:00\",\"publication_date\"]"
   ]
  },
  {
   "cell_type": "code",
   "execution_count": 668,
   "id": "d2feb545",
   "metadata": {
    "scrolled": true
   },
   "outputs": [],
   "source": [
    "# Convert object/string to date type\n",
    "books_df.loc[:,\"Date\"] = pd.to_datetime(books_df['publication_date'])"
   ]
  },
  {
   "cell_type": "code",
   "execution_count": 669,
   "id": "823f2671",
   "metadata": {},
   "outputs": [],
   "source": [
    "# Select year from the date\n",
    "books_df['year'] = books_df['Date'].dt.year\n"
   ]
  },
  {
   "cell_type": "code",
   "execution_count": 670,
   "id": "53cc79ce",
   "metadata": {},
   "outputs": [],
   "source": [
    "# Select month from the date\n",
    "books_df['month'] = books_df['Date'].dt.month"
   ]
  },
  {
   "cell_type": "code",
   "execution_count": 806,
   "id": "324eac0a",
   "metadata": {},
   "outputs": [
    {
     "data": {
      "text/html": [
       "<div>\n",
       "<style scoped>\n",
       "    .dataframe tbody tr th:only-of-type {\n",
       "        vertical-align: middle;\n",
       "    }\n",
       "\n",
       "    .dataframe tbody tr th {\n",
       "        vertical-align: top;\n",
       "    }\n",
       "\n",
       "    .dataframe thead th {\n",
       "        text-align: right;\n",
       "    }\n",
       "</style>\n",
       "<table border=\"1\" class=\"dataframe\">\n",
       "  <thead>\n",
       "    <tr style=\"text-align: right;\">\n",
       "      <th></th>\n",
       "      <th>title</th>\n",
       "      <th>authors</th>\n",
       "      <th>average_rating</th>\n",
       "      <th>language_code</th>\n",
       "      <th>num_pages</th>\n",
       "      <th>ratings_count</th>\n",
       "      <th>text_reviews_count</th>\n",
       "      <th>year</th>\n",
       "      <th>month</th>\n",
       "    </tr>\n",
       "    <tr>\n",
       "      <th>bookID</th>\n",
       "      <th></th>\n",
       "      <th></th>\n",
       "      <th></th>\n",
       "      <th></th>\n",
       "      <th></th>\n",
       "      <th></th>\n",
       "      <th></th>\n",
       "      <th></th>\n",
       "      <th></th>\n",
       "    </tr>\n",
       "  </thead>\n",
       "  <tbody>\n",
       "    <tr>\n",
       "      <th>2034</th>\n",
       "      <td>Comoediae 1: Acharenses</td>\n",
       "      <td>Aristophanes</td>\n",
       "      <td>5.0</td>\n",
       "      <td>grc</td>\n",
       "      <td>364</td>\n",
       "      <td>0</td>\n",
       "      <td>0.0</td>\n",
       "      <td>1922</td>\n",
       "      <td>2</td>\n",
       "    </tr>\n",
       "    <tr>\n",
       "      <th>2560</th>\n",
       "      <td>Willem de Kooning: Late Paintings</td>\n",
       "      <td>Julie Sylvester</td>\n",
       "      <td>5.0</td>\n",
       "      <td>eng</td>\n",
       "      <td>83</td>\n",
       "      <td>1</td>\n",
       "      <td>0.0</td>\n",
       "      <td>2006</td>\n",
       "      <td>9</td>\n",
       "    </tr>\n",
       "    <tr>\n",
       "      <th>2843</th>\n",
       "      <td>Literature Circle Guide: Bridge to Terabithia:...</td>\n",
       "      <td>Tara MacCarthy</td>\n",
       "      <td>5.0</td>\n",
       "      <td>eng</td>\n",
       "      <td>32</td>\n",
       "      <td>4</td>\n",
       "      <td>1.0</td>\n",
       "      <td>2002</td>\n",
       "      <td>1</td>\n",
       "    </tr>\n",
       "    <tr>\n",
       "      <th>4287</th>\n",
       "      <td>Middlesex Borough</td>\n",
       "      <td>Middlesex Borough Heritage Committee</td>\n",
       "      <td>5.0</td>\n",
       "      <td>eng</td>\n",
       "      <td>128</td>\n",
       "      <td>2</td>\n",
       "      <td>0.0</td>\n",
       "      <td>2003</td>\n",
       "      <td>3</td>\n",
       "    </tr>\n",
       "    <tr>\n",
       "      <th>14741</th>\n",
       "      <td>Zone of the Enders: The 2nd Runner Official St...</td>\n",
       "      <td>Tim Bogenn</td>\n",
       "      <td>5.0</td>\n",
       "      <td>eng</td>\n",
       "      <td>128</td>\n",
       "      <td>2</td>\n",
       "      <td>0.0</td>\n",
       "      <td>2003</td>\n",
       "      <td>3</td>\n",
       "    </tr>\n",
       "  </tbody>\n",
       "</table>\n",
       "</div>"
      ],
      "text/plain": [
       "                                                    title  \\\n",
       "bookID                                                      \n",
       "2034                              Comoediae 1: Acharenses   \n",
       "2560                    Willem de Kooning: Late Paintings   \n",
       "2843    Literature Circle Guide: Bridge to Terabithia:...   \n",
       "4287                                   Middlesex Borough    \n",
       "14741   Zone of the Enders: The 2nd Runner Official St...   \n",
       "\n",
       "                                     authors  average_rating language_code  \\\n",
       "bookID                                                                       \n",
       "2034                            Aristophanes             5.0           grc   \n",
       "2560                         Julie Sylvester             5.0           eng   \n",
       "2843                          Tara MacCarthy             5.0           eng   \n",
       "4287    Middlesex Borough Heritage Committee             5.0           eng   \n",
       "14741                             Tim Bogenn             5.0           eng   \n",
       "\n",
       "          num_pages  ratings_count  text_reviews_count  year  month  \n",
       "bookID                                                               \n",
       "2034            364              0                 0.0  1922      2  \n",
       "2560             83              1                 0.0  2006      9  \n",
       "2843             32              4                 1.0  2002      1  \n",
       "4287            128              2                 0.0  2003      3  \n",
       "14741           128              2                 0.0  2003      3  "
      ]
     },
     "execution_count": 806,
     "metadata": {},
     "output_type": "execute_result"
    }
   ],
   "source": [
    "books_df.head()"
   ]
  },
  {
   "cell_type": "code",
   "execution_count": 674,
   "id": "1f68995b",
   "metadata": {},
   "outputs": [
    {
     "data": {
      "text/plain": [
       "title                  object\n",
       "authors                object\n",
       "average_rating        float64\n",
       "language_code          object\n",
       "  num_pages             int64\n",
       "ratings_count           int64\n",
       "text_reviews_count    float64\n",
       "publisher              object\n",
       "year                    int64\n",
       "month                   int64\n",
       "dtype: object"
      ]
     },
     "execution_count": 674,
     "metadata": {},
     "output_type": "execute_result"
    }
   ],
   "source": [
    "books_df.dtypes"
   ]
  },
  {
   "cell_type": "code",
   "execution_count": 673,
   "id": "a6f985e9",
   "metadata": {},
   "outputs": [],
   "source": [
    "# Drop the columns \"publication_date\" and \"Date\", because it has been transformed to year and month \n",
    "books_df = books_df.drop([\"publication_date\",\"Date\"],axis=1)"
   ]
  },
  {
   "cell_type": "markdown",
   "id": "5c8e5cc9",
   "metadata": {},
   "source": [
    "######  Clean the column \"Authors\""
   ]
  },
  {
   "cell_type": "code",
   "execution_count": 675,
   "id": "b6b646f0",
   "metadata": {},
   "outputs": [],
   "source": [
    "# Create a function to identify \"/ \" in the column \"Authors\"\n",
    "def Update_strings(name):\n",
    "    if name.find(\"/\") != -1:\n",
    "      author_name = name.split(\"/\")[0]\n",
    "    elif name.find(\"(\") != -1:\n",
    "      author_name = name.split(\"(\")[0]  \n",
    "    else:\n",
    "      author_name = name\n",
    "    return author_name\n",
    "   "
   ]
  },
  {
   "cell_type": "code",
   "execution_count": 676,
   "id": "6807e72b",
   "metadata": {},
   "outputs": [],
   "source": [
    "# Transform the \"author\" column information to have only one author\n",
    "books_df.loc[:,\"authors\"] = books_df.loc[:,\"authors\"].apply(Update_strings)"
   ]
  },
  {
   "cell_type": "markdown",
   "id": "97dc5874",
   "metadata": {},
   "source": [
    "######  Clean the column \"Title\""
   ]
  },
  {
   "cell_type": "code",
   "execution_count": 677,
   "id": "6e5555c0",
   "metadata": {},
   "outputs": [],
   "source": [
    "# Create function to replace special characters such as \"!$%^&*\" with white space and also & with and\n",
    "def processString(txt):\n",
    "  specialCharacters = \"!$%^&*¡¿\" \n",
    "  for specialChar in specialCharacters:\n",
    "    if specialChar == '&':\n",
    "        txt = txt.replace('&',' and ') \n",
    "    else:\n",
    "        txt = txt.replace(specialChar, ' ')\n",
    "  return txt"
   ]
  },
  {
   "cell_type": "code",
   "execution_count": 678,
   "id": "90ccf1bd",
   "metadata": {},
   "outputs": [],
   "source": [
    "# Update the title column data to bring uniformity to the column \"title\"\n",
    "books_df.loc[:,\"New_title\"]= books_df.loc[:,\"title\"].apply(processString)"
   ]
  },
  {
   "cell_type": "code",
   "execution_count": 680,
   "id": "7b988ddd",
   "metadata": {},
   "outputs": [],
   "source": [
    "# Replace double white spaces with single space\n",
    "books_df['New_title'] = books_df['New_title'].str.replace('  ',' ')"
   ]
  },
  {
   "cell_type": "code",
   "execution_count": 681,
   "id": "0831238a",
   "metadata": {},
   "outputs": [],
   "source": [
    "# Create a new title column name: new_title\n",
    "books_df.loc[:,\"New_title\"]= books_df.loc[:,\"New_title\"].apply(Update_strings)"
   ]
  },
  {
   "cell_type": "code",
   "execution_count": 688,
   "id": "9adb3ead",
   "metadata": {},
   "outputs": [
    {
     "data": {
      "text/html": [
       "<div>\n",
       "<style scoped>\n",
       "    .dataframe tbody tr th:only-of-type {\n",
       "        vertical-align: middle;\n",
       "    }\n",
       "\n",
       "    .dataframe tbody tr th {\n",
       "        vertical-align: top;\n",
       "    }\n",
       "\n",
       "    .dataframe thead th {\n",
       "        text-align: right;\n",
       "    }\n",
       "</style>\n",
       "<table border=\"1\" class=\"dataframe\">\n",
       "  <thead>\n",
       "    <tr style=\"text-align: right;\">\n",
       "      <th></th>\n",
       "      <th>title</th>\n",
       "      <th>New_title</th>\n",
       "    </tr>\n",
       "    <tr>\n",
       "      <th>bookID</th>\n",
       "      <th></th>\n",
       "      <th></th>\n",
       "    </tr>\n",
       "  </thead>\n",
       "  <tbody>\n",
       "    <tr>\n",
       "      <th>2034</th>\n",
       "      <td>Comoediae 1: Acharenses/Equites/Nubes/Vespae/P...</td>\n",
       "      <td>Comoediae 1: Acharenses</td>\n",
       "    </tr>\n",
       "    <tr>\n",
       "      <th>2560</th>\n",
       "      <td>Willem de Kooning: Late Paintings</td>\n",
       "      <td>Willem de Kooning: Late Paintings</td>\n",
       "    </tr>\n",
       "    <tr>\n",
       "      <th>2843</th>\n",
       "      <td>Literature Circle Guide: Bridge to Terabithia:...</td>\n",
       "      <td>Literature Circle Guide: Bridge to Terabithia:...</td>\n",
       "    </tr>\n",
       "    <tr>\n",
       "      <th>4287</th>\n",
       "      <td>Middlesex Borough (Images of America: New Jersey)</td>\n",
       "      <td>Middlesex Borough</td>\n",
       "    </tr>\n",
       "    <tr>\n",
       "      <th>14741</th>\n",
       "      <td>Zone of the Enders: The 2nd Runner Official St...</td>\n",
       "      <td>Zone of the Enders: The 2nd Runner Official St...</td>\n",
       "    </tr>\n",
       "    <tr>\n",
       "      <th>...</th>\n",
       "      <td>...</td>\n",
       "      <td>...</td>\n",
       "    </tr>\n",
       "    <tr>\n",
       "      <th>45259</th>\n",
       "      <td>Anthony Thwaite: In Conversation With Peter Da...</td>\n",
       "      <td>Anthony Thwaite: In Conversation With Peter Da...</td>\n",
       "    </tr>\n",
       "    <tr>\n",
       "      <th>12224</th>\n",
       "      <td>Streetcar Suburbs: The Process of Growth in Bo...</td>\n",
       "      <td>Streetcar Suburbs: The Process of Growth in Bo...</td>\n",
       "    </tr>\n",
       "    <tr>\n",
       "      <th>16914</th>\n",
       "      <td>The Tolkien Fan's Medieval Reader</td>\n",
       "      <td>The Tolkien Fan's Medieval Reader</td>\n",
       "    </tr>\n",
       "    <tr>\n",
       "      <th>22128</th>\n",
       "      <td>Patriots (The Coming Collapse)</td>\n",
       "      <td>Patriots</td>\n",
       "    </tr>\n",
       "    <tr>\n",
       "      <th>34889</th>\n",
       "      <td>Brown's Star Atlas: Showing All The Bright Sta...</td>\n",
       "      <td>Brown's Star Atlas: Showing All The Bright Sta...</td>\n",
       "    </tr>\n",
       "  </tbody>\n",
       "</table>\n",
       "<p>11125 rows × 2 columns</p>\n",
       "</div>"
      ],
      "text/plain": [
       "                                                    title  \\\n",
       "bookID                                                      \n",
       "2034    Comoediae 1: Acharenses/Equites/Nubes/Vespae/P...   \n",
       "2560                    Willem de Kooning: Late Paintings   \n",
       "2843    Literature Circle Guide: Bridge to Terabithia:...   \n",
       "4287    Middlesex Borough (Images of America: New Jersey)   \n",
       "14741   Zone of the Enders: The 2nd Runner Official St...   \n",
       "...                                                   ...   \n",
       "45259   Anthony Thwaite: In Conversation With Peter Da...   \n",
       "12224   Streetcar Suburbs: The Process of Growth in Bo...   \n",
       "16914                   The Tolkien Fan's Medieval Reader   \n",
       "22128                      Patriots (The Coming Collapse)   \n",
       "34889   Brown's Star Atlas: Showing All The Bright Sta...   \n",
       "\n",
       "                                                New_title  \n",
       "bookID                                                     \n",
       "2034                              Comoediae 1: Acharenses  \n",
       "2560                    Willem de Kooning: Late Paintings  \n",
       "2843    Literature Circle Guide: Bridge to Terabithia:...  \n",
       "4287                                   Middlesex Borough   \n",
       "14741   Zone of the Enders: The 2nd Runner Official St...  \n",
       "...                                                   ...  \n",
       "45259   Anthony Thwaite: In Conversation With Peter Da...  \n",
       "12224   Streetcar Suburbs: The Process of Growth in Bo...  \n",
       "16914                   The Tolkien Fan's Medieval Reader  \n",
       "22128                                           Patriots   \n",
       "34889   Brown's Star Atlas: Showing All The Bright Sta...  \n",
       "\n",
       "[11125 rows x 2 columns]"
      ]
     },
     "execution_count": 688,
     "metadata": {},
     "output_type": "execute_result"
    }
   ],
   "source": [
    "# View the \"title\" transformation\n",
    "books_df[[\"title\",\"New_title\"]]"
   ]
  },
  {
   "cell_type": "code",
   "execution_count": 689,
   "id": "e86f03f7",
   "metadata": {},
   "outputs": [
    {
     "data": {
      "text/plain": [
       "The Iliad                                                                                 9\n",
       "The Brothers Karamazov                                                                    9\n",
       "The Odyssey                                                                               8\n",
       "'Salem's Lot                                                                              8\n",
       "Gulliver's Travels                                                                        8\n",
       "                                                                                         ..\n",
       "Cartas del diablo a su sobrino                                                            1\n",
       "Something Borrowed                                                                        1\n",
       "Everybody Was Kung Fu Fighting: Afro-Asian Connections and the Myth of Cultural Purity    1\n",
       "Macbeth (No Fear Shakespeare)                                                             1\n",
       "Firedrake (Dragonrealm #1)                                                                1\n",
       "Name: title, Length: 10350, dtype: int64"
      ]
     },
     "execution_count": 689,
     "metadata": {},
     "output_type": "execute_result"
    }
   ],
   "source": [
    "# The number of counts for each title\n",
    "books_df.title.value_counts()"
   ]
  },
  {
   "cell_type": "code",
   "execution_count": 694,
   "id": "33646d3a",
   "metadata": {},
   "outputs": [
    {
     "data": {
      "text/plain": [
       "title                 0\n",
       "authors               0\n",
       "average_rating        0\n",
       "language_code         0\n",
       "  num_pages           0\n",
       "ratings_count         0\n",
       "text_reviews_count    0\n",
       "publisher             0\n",
       "year                  0\n",
       "month                 0\n",
       "New_title             0\n",
       "dtype: int64"
      ]
     },
     "execution_count": 694,
     "metadata": {},
     "output_type": "execute_result"
    }
   ],
   "source": [
    "# Check for null values\n",
    "books_df.isna().sum()"
   ]
  },
  {
   "cell_type": "markdown",
   "id": "5fcf41e6",
   "metadata": {},
   "source": [
    "##### Clean the column \"publisher\" "
   ]
  },
  {
   "cell_type": "code",
   "execution_count": 692,
   "id": "e32f6a5c",
   "metadata": {},
   "outputs": [
    {
     "data": {
      "text/html": [
       "<div>\n",
       "<style scoped>\n",
       "    .dataframe tbody tr th:only-of-type {\n",
       "        vertical-align: middle;\n",
       "    }\n",
       "\n",
       "    .dataframe tbody tr th {\n",
       "        vertical-align: top;\n",
       "    }\n",
       "\n",
       "    .dataframe thead th {\n",
       "        text-align: right;\n",
       "    }\n",
       "</style>\n",
       "<table border=\"1\" class=\"dataframe\">\n",
       "  <thead>\n",
       "    <tr style=\"text-align: right;\">\n",
       "      <th></th>\n",
       "      <th>title</th>\n",
       "      <th>authors</th>\n",
       "      <th>average_rating</th>\n",
       "      <th>language_code</th>\n",
       "      <th>num_pages</th>\n",
       "      <th>ratings_count</th>\n",
       "      <th>text_reviews_count</th>\n",
       "      <th>publisher</th>\n",
       "      <th>year</th>\n",
       "      <th>month</th>\n",
       "      <th>New_title</th>\n",
       "    </tr>\n",
       "    <tr>\n",
       "      <th>bookID</th>\n",
       "      <th></th>\n",
       "      <th></th>\n",
       "      <th></th>\n",
       "      <th></th>\n",
       "      <th></th>\n",
       "      <th></th>\n",
       "      <th></th>\n",
       "      <th></th>\n",
       "      <th></th>\n",
       "      <th></th>\n",
       "      <th></th>\n",
       "    </tr>\n",
       "  </thead>\n",
       "  <tbody>\n",
       "    <tr>\n",
       "      <th>12224</th>\n",
       "      <td>Streetcar Suburbs: The Process of Growth in Bo...</td>\n",
       "      <td>Sam Bass Warner</td>\n",
       "      <td>3.58</td>\n",
       "      <td>eng</td>\n",
       "      <td>236</td>\n",
       "      <td>61</td>\n",
       "      <td>NaN</td>\n",
       "      <td>NaN</td>\n",
       "      <td>2004</td>\n",
       "      <td>4</td>\n",
       "      <td>Streetcar Suburbs: The Process of Growth in Bo...</td>\n",
       "    </tr>\n",
       "    <tr>\n",
       "      <th>16914</th>\n",
       "      <td>The Tolkien Fan's Medieval Reader</td>\n",
       "      <td>David E. Smith</td>\n",
       "      <td>3.58</td>\n",
       "      <td>eng</td>\n",
       "      <td>400</td>\n",
       "      <td>26</td>\n",
       "      <td>NaN</td>\n",
       "      <td>NaN</td>\n",
       "      <td>2004</td>\n",
       "      <td>4</td>\n",
       "      <td>The Tolkien Fan's Medieval Reader</td>\n",
       "    </tr>\n",
       "    <tr>\n",
       "      <th>22128</th>\n",
       "      <td>Patriots (The Coming Collapse)</td>\n",
       "      <td>James Wesley</td>\n",
       "      <td>3.63</td>\n",
       "      <td>eng</td>\n",
       "      <td>342</td>\n",
       "      <td>38</td>\n",
       "      <td>NaN</td>\n",
       "      <td>NaN</td>\n",
       "      <td>1999</td>\n",
       "      <td>1</td>\n",
       "      <td>Patriots</td>\n",
       "    </tr>\n",
       "    <tr>\n",
       "      <th>34889</th>\n",
       "      <td>Brown's Star Atlas: Showing All The Bright Sta...</td>\n",
       "      <td>Brown</td>\n",
       "      <td>0.00</td>\n",
       "      <td>eng</td>\n",
       "      <td>49</td>\n",
       "      <td>0</td>\n",
       "      <td>NaN</td>\n",
       "      <td>NaN</td>\n",
       "      <td>1977</td>\n",
       "      <td>5</td>\n",
       "      <td>Brown's Star Atlas: Showing All The Bright Sta...</td>\n",
       "    </tr>\n",
       "  </tbody>\n",
       "</table>\n",
       "</div>"
      ],
      "text/plain": [
       "                                                    title          authors  \\\n",
       "bookID                                                                       \n",
       "12224   Streetcar Suburbs: The Process of Growth in Bo...  Sam Bass Warner   \n",
       "16914                   The Tolkien Fan's Medieval Reader  David E. Smith    \n",
       "22128                      Patriots (The Coming Collapse)     James Wesley   \n",
       "34889   Brown's Star Atlas: Showing All The Bright Sta...            Brown   \n",
       "\n",
       "        average_rating language_code    num_pages  ratings_count  \\\n",
       "bookID                                                             \n",
       "12224             3.58           eng          236             61   \n",
       "16914             3.58           eng          400             26   \n",
       "22128             3.63           eng          342             38   \n",
       "34889             0.00           eng           49              0   \n",
       "\n",
       "        text_reviews_count publisher  year  month  \\\n",
       "bookID                                              \n",
       "12224                  NaN       NaN  2004      4   \n",
       "16914                  NaN       NaN  2004      4   \n",
       "22128                  NaN       NaN  1999      1   \n",
       "34889                  NaN       NaN  1977      5   \n",
       "\n",
       "                                                New_title  \n",
       "bookID                                                     \n",
       "12224   Streetcar Suburbs: The Process of Growth in Bo...  \n",
       "16914                   The Tolkien Fan's Medieval Reader  \n",
       "22128                                           Patriots   \n",
       "34889   Brown's Star Atlas: Showing All The Bright Sta...  "
      ]
     },
     "execution_count": 692,
     "metadata": {},
     "output_type": "execute_result"
    }
   ],
   "source": [
    "# View null values of publisher,text_reviews_count \n",
    "books_df.loc[books_df.publisher.isna(),:]"
   ]
  },
  {
   "cell_type": "code",
   "execution_count": 693,
   "id": "49b73202",
   "metadata": {},
   "outputs": [],
   "source": [
    "# Drop records for null values of \"text_reviews_count\" and \"publisher\"\n",
    "books_df = books_df.loc[books_df['text_reviews_count'].notna(),:]"
   ]
  },
  {
   "cell_type": "code",
   "execution_count": 695,
   "id": "c9926bd1",
   "metadata": {},
   "outputs": [],
   "source": [
    "# Drop the columns publisher from the dataframe\n",
    "books_df = books_df.drop([\"publisher\"],axis=1)\n"
   ]
  },
  {
   "cell_type": "code",
   "execution_count": 698,
   "id": "bc596f23",
   "metadata": {},
   "outputs": [
    {
     "data": {
      "text/plain": [
       "title                  object\n",
       "authors                object\n",
       "average_rating        float64\n",
       "language_code          object\n",
       "  num_pages             int64\n",
       "ratings_count           int64\n",
       "text_reviews_count    float64\n",
       "year                    int64\n",
       "month                   int64\n",
       "New_title              object\n",
       "dtype: object"
      ]
     },
     "execution_count": 698,
     "metadata": {},
     "output_type": "execute_result"
    }
   ],
   "source": [
    "# View the data types for the columns\n",
    "books_df.dtypes"
   ]
  },
  {
   "cell_type": "code",
   "execution_count": 713,
   "id": "e73c1f4b",
   "metadata": {},
   "outputs": [
    {
     "data": {
      "text/html": [
       "<div>\n",
       "<style scoped>\n",
       "    .dataframe tbody tr th:only-of-type {\n",
       "        vertical-align: middle;\n",
       "    }\n",
       "\n",
       "    .dataframe tbody tr th {\n",
       "        vertical-align: top;\n",
       "    }\n",
       "\n",
       "    .dataframe thead th {\n",
       "        text-align: right;\n",
       "    }\n",
       "</style>\n",
       "<table border=\"1\" class=\"dataframe\">\n",
       "  <thead>\n",
       "    <tr style=\"text-align: right;\">\n",
       "      <th></th>\n",
       "      <th>title</th>\n",
       "      <th>authors</th>\n",
       "      <th>average_rating</th>\n",
       "      <th>language_code</th>\n",
       "      <th>num_pages</th>\n",
       "      <th>ratings_count</th>\n",
       "      <th>text_reviews_count</th>\n",
       "      <th>year</th>\n",
       "      <th>month</th>\n",
       "    </tr>\n",
       "    <tr>\n",
       "      <th>bookID</th>\n",
       "      <th></th>\n",
       "      <th></th>\n",
       "      <th></th>\n",
       "      <th></th>\n",
       "      <th></th>\n",
       "      <th></th>\n",
       "      <th></th>\n",
       "      <th></th>\n",
       "      <th></th>\n",
       "    </tr>\n",
       "  </thead>\n",
       "  <tbody>\n",
       "    <tr>\n",
       "      <th>2034</th>\n",
       "      <td>Comoediae 1: Acharenses</td>\n",
       "      <td>Aristophanes</td>\n",
       "      <td>5.0</td>\n",
       "      <td>grc</td>\n",
       "      <td>364</td>\n",
       "      <td>0</td>\n",
       "      <td>0.0</td>\n",
       "      <td>1922</td>\n",
       "      <td>2</td>\n",
       "    </tr>\n",
       "    <tr>\n",
       "      <th>2560</th>\n",
       "      <td>Willem de Kooning: Late Paintings</td>\n",
       "      <td>Julie Sylvester</td>\n",
       "      <td>5.0</td>\n",
       "      <td>eng</td>\n",
       "      <td>83</td>\n",
       "      <td>1</td>\n",
       "      <td>0.0</td>\n",
       "      <td>2006</td>\n",
       "      <td>9</td>\n",
       "    </tr>\n",
       "    <tr>\n",
       "      <th>2843</th>\n",
       "      <td>Literature Circle Guide: Bridge to Terabithia:...</td>\n",
       "      <td>Tara MacCarthy</td>\n",
       "      <td>5.0</td>\n",
       "      <td>eng</td>\n",
       "      <td>32</td>\n",
       "      <td>4</td>\n",
       "      <td>1.0</td>\n",
       "      <td>2002</td>\n",
       "      <td>1</td>\n",
       "    </tr>\n",
       "    <tr>\n",
       "      <th>4287</th>\n",
       "      <td>Middlesex Borough</td>\n",
       "      <td>Middlesex Borough Heritage Committee</td>\n",
       "      <td>5.0</td>\n",
       "      <td>eng</td>\n",
       "      <td>128</td>\n",
       "      <td>2</td>\n",
       "      <td>0.0</td>\n",
       "      <td>2003</td>\n",
       "      <td>3</td>\n",
       "    </tr>\n",
       "    <tr>\n",
       "      <th>14741</th>\n",
       "      <td>Zone of the Enders: The 2nd Runner Official St...</td>\n",
       "      <td>Tim Bogenn</td>\n",
       "      <td>5.0</td>\n",
       "      <td>eng</td>\n",
       "      <td>128</td>\n",
       "      <td>2</td>\n",
       "      <td>0.0</td>\n",
       "      <td>2003</td>\n",
       "      <td>3</td>\n",
       "    </tr>\n",
       "    <tr>\n",
       "      <th>...</th>\n",
       "      <td>...</td>\n",
       "      <td>...</td>\n",
       "      <td>...</td>\n",
       "      <td>...</td>\n",
       "      <td>...</td>\n",
       "      <td>...</td>\n",
       "      <td>...</td>\n",
       "      <td>...</td>\n",
       "      <td>...</td>\n",
       "    </tr>\n",
       "    <tr>\n",
       "      <th>37467</th>\n",
       "      <td>Classroom Interactions as Cross-Cultural Encou...</td>\n",
       "      <td>Jasmine C.M. Luk</td>\n",
       "      <td>0.0</td>\n",
       "      <td>eng</td>\n",
       "      <td>241</td>\n",
       "      <td>0</td>\n",
       "      <td>0.0</td>\n",
       "      <td>2006</td>\n",
       "      <td>8</td>\n",
       "    </tr>\n",
       "    <tr>\n",
       "      <th>41044</th>\n",
       "      <td>Day and Night</td>\n",
       "      <td>Better Homes and Gardens</td>\n",
       "      <td>0.0</td>\n",
       "      <td>eng</td>\n",
       "      <td>32</td>\n",
       "      <td>0</td>\n",
       "      <td>1.0</td>\n",
       "      <td>1989</td>\n",
       "      <td>3</td>\n",
       "    </tr>\n",
       "    <tr>\n",
       "      <th>42758</th>\n",
       "      <td>The Fantastic Vampire: Studies in the Children...</td>\n",
       "      <td>James Craig Holte</td>\n",
       "      <td>0.0</td>\n",
       "      <td>eng</td>\n",
       "      <td>176</td>\n",
       "      <td>0</td>\n",
       "      <td>0.0</td>\n",
       "      <td>2002</td>\n",
       "      <td>3</td>\n",
       "    </tr>\n",
       "    <tr>\n",
       "      <th>44705</th>\n",
       "      <td>The Leadership Challenge: Skills for Taking Ch...</td>\n",
       "      <td>Warren G. Bennis</td>\n",
       "      <td>0.0</td>\n",
       "      <td>eng</td>\n",
       "      <td>60</td>\n",
       "      <td>0</td>\n",
       "      <td>0.0</td>\n",
       "      <td>1985</td>\n",
       "      <td>12</td>\n",
       "    </tr>\n",
       "    <tr>\n",
       "      <th>45259</th>\n",
       "      <td>Anthony Thwaite: In Conversation With Peter Da...</td>\n",
       "      <td>Peter  Dale</td>\n",
       "      <td>0.0</td>\n",
       "      <td>eng</td>\n",
       "      <td>96</td>\n",
       "      <td>0</td>\n",
       "      <td>0.0</td>\n",
       "      <td>1999</td>\n",
       "      <td>12</td>\n",
       "    </tr>\n",
       "  </tbody>\n",
       "</table>\n",
       "<p>11062 rows × 9 columns</p>\n",
       "</div>"
      ],
      "text/plain": [
       "                                                    title  \\\n",
       "bookID                                                      \n",
       "2034                              Comoediae 1: Acharenses   \n",
       "2560                    Willem de Kooning: Late Paintings   \n",
       "2843    Literature Circle Guide: Bridge to Terabithia:...   \n",
       "4287                                   Middlesex Borough    \n",
       "14741   Zone of the Enders: The 2nd Runner Official St...   \n",
       "...                                                   ...   \n",
       "37467   Classroom Interactions as Cross-Cultural Encou...   \n",
       "41044                                       Day and Night   \n",
       "42758   The Fantastic Vampire: Studies in the Children...   \n",
       "44705   The Leadership Challenge: Skills for Taking Ch...   \n",
       "45259   Anthony Thwaite: In Conversation With Peter Da...   \n",
       "\n",
       "                                     authors  average_rating language_code  \\\n",
       "bookID                                                                       \n",
       "2034                            Aristophanes             5.0           grc   \n",
       "2560                         Julie Sylvester             5.0           eng   \n",
       "2843                          Tara MacCarthy             5.0           eng   \n",
       "4287    Middlesex Borough Heritage Committee             5.0           eng   \n",
       "14741                             Tim Bogenn             5.0           eng   \n",
       "...                                      ...             ...           ...   \n",
       "37467                       Jasmine C.M. Luk             0.0           eng   \n",
       "41044               Better Homes and Gardens             0.0           eng   \n",
       "42758                      James Craig Holte             0.0           eng   \n",
       "44705                       Warren G. Bennis             0.0           eng   \n",
       "45259                            Peter  Dale             0.0           eng   \n",
       "\n",
       "          num_pages  ratings_count  text_reviews_count  year  month  \n",
       "bookID                                                               \n",
       "2034            364              0                 0.0  1922      2  \n",
       "2560             83              1                 0.0  2006      9  \n",
       "2843             32              4                 1.0  2002      1  \n",
       "4287            128              2                 0.0  2003      3  \n",
       "14741           128              2                 0.0  2003      3  \n",
       "...             ...            ...                 ...   ...    ...  \n",
       "37467           241              0                 0.0  2006      8  \n",
       "41044            32              0                 1.0  1989      3  \n",
       "42758           176              0                 0.0  2002      3  \n",
       "44705            60              0                 0.0  1985     12  \n",
       "45259            96              0                 0.0  1999     12  \n",
       "\n",
       "[11062 rows x 9 columns]"
      ]
     },
     "execution_count": 713,
     "metadata": {},
     "output_type": "execute_result"
    }
   ],
   "source": [
    "# Replace the \"title\" column with \"new_title\" and drop the colum\n",
    "books_df.loc[:,\"title\"]= books_df.loc[:,\"New_title\"].apply(Update_strings)\n",
    "books_df = books_df.drop([\"New_title\"],axis=1)\n",
    "books_df"
   ]
  },
  {
   "cell_type": "markdown",
   "id": "fd7d5ec9",
   "metadata": {},
   "source": [
    "#### 2. Exploratory Analysis of the Data"
   ]
  },
  {
   "cell_type": "code",
   "execution_count": 701,
   "id": "88c354cd",
   "metadata": {},
   "outputs": [
    {
     "data": {
      "text/plain": [
       "Text(0, 0.5, 'Frequency')"
      ]
     },
     "execution_count": 701,
     "metadata": {},
     "output_type": "execute_result"
    },
    {
     "data": {
      "image/png": "[encoded data removed]",
      "text/plain": [
       "<Figure size 432x288 with 1 Axes>"
      ]
     },
     "metadata": {
      "needs_background": "light"
     },
     "output_type": "display_data"
    }
   ],
   "source": [
    "# ratings distribution\n",
    "sns.kdeplot(books_df['average_rating'], shade = True)\n",
    "plt.title('Rating Distribution\\n')\n",
    "plt.xlabel('Rating')\n",
    "plt.ylabel('Frequency')"
   ]
  },
  {
   "cell_type": "code",
   "execution_count": 864,
   "id": "ef52b826",
   "metadata": {},
   "outputs": [
    {
     "data": {
      "text/plain": [
       "<matplotlib.legend.Legend at 0x1b1bf619488>"
      ]
     },
     "execution_count": 864,
     "metadata": {},
     "output_type": "execute_result"
    },
    {
     "data": {
      "image/png": "[encoded data removed]",
      "text/plain": [
       "<Figure size 360x360 with 1 Axes>"
      ]
     },
     "metadata": {},
     "output_type": "display_data"
    }
   ],
   "source": [
    "# top 4 languages\n",
    "books_df['language_code'].value_counts().head(4).plot(kind = 'pie', autopct='%1.2f%%', figsize=(5, 5)).legend()\n"
   ]
  },
  {
   "cell_type": "code",
   "execution_count": 807,
   "id": "fe6fb811",
   "metadata": {},
   "outputs": [
    {
     "data": {
      "text/html": [
       "<div>\n",
       "<style scoped>\n",
       "    .dataframe tbody tr th:only-of-type {\n",
       "        vertical-align: middle;\n",
       "    }\n",
       "\n",
       "    .dataframe tbody tr th {\n",
       "        vertical-align: top;\n",
       "    }\n",
       "\n",
       "    .dataframe thead th {\n",
       "        text-align: right;\n",
       "    }\n",
       "</style>\n",
       "<table border=\"1\" class=\"dataframe\">\n",
       "  <thead>\n",
       "    <tr style=\"text-align: right;\">\n",
       "      <th></th>\n",
       "      <th>title</th>\n",
       "      <th>authors</th>\n",
       "      <th>average_rating</th>\n",
       "      <th>language_code</th>\n",
       "      <th>num_pages</th>\n",
       "      <th>ratings_count</th>\n",
       "      <th>text_reviews_count</th>\n",
       "      <th>year</th>\n",
       "      <th>month</th>\n",
       "    </tr>\n",
       "    <tr>\n",
       "      <th>bookID</th>\n",
       "      <th></th>\n",
       "      <th></th>\n",
       "      <th></th>\n",
       "      <th></th>\n",
       "      <th></th>\n",
       "      <th></th>\n",
       "      <th></th>\n",
       "      <th></th>\n",
       "      <th></th>\n",
       "    </tr>\n",
       "  </thead>\n",
       "  <tbody>\n",
       "    <tr>\n",
       "      <th>2034</th>\n",
       "      <td>Comoediae 1: Acharenses</td>\n",
       "      <td>Aristophanes</td>\n",
       "      <td>5.0</td>\n",
       "      <td>grc</td>\n",
       "      <td>364</td>\n",
       "      <td>0</td>\n",
       "      <td>0.0</td>\n",
       "      <td>1922</td>\n",
       "      <td>2</td>\n",
       "    </tr>\n",
       "    <tr>\n",
       "      <th>2560</th>\n",
       "      <td>Willem de Kooning: Late Paintings</td>\n",
       "      <td>Julie Sylvester</td>\n",
       "      <td>5.0</td>\n",
       "      <td>eng</td>\n",
       "      <td>83</td>\n",
       "      <td>1</td>\n",
       "      <td>0.0</td>\n",
       "      <td>2006</td>\n",
       "      <td>9</td>\n",
       "    </tr>\n",
       "    <tr>\n",
       "      <th>2843</th>\n",
       "      <td>Literature Circle Guide: Bridge to Terabithia:...</td>\n",
       "      <td>Tara MacCarthy</td>\n",
       "      <td>5.0</td>\n",
       "      <td>eng</td>\n",
       "      <td>32</td>\n",
       "      <td>4</td>\n",
       "      <td>1.0</td>\n",
       "      <td>2002</td>\n",
       "      <td>1</td>\n",
       "    </tr>\n",
       "    <tr>\n",
       "      <th>4287</th>\n",
       "      <td>Middlesex Borough</td>\n",
       "      <td>Middlesex Borough Heritage Committee</td>\n",
       "      <td>5.0</td>\n",
       "      <td>eng</td>\n",
       "      <td>128</td>\n",
       "      <td>2</td>\n",
       "      <td>0.0</td>\n",
       "      <td>2003</td>\n",
       "      <td>3</td>\n",
       "    </tr>\n",
       "    <tr>\n",
       "      <th>14741</th>\n",
       "      <td>Zone of the Enders: The 2nd Runner Official St...</td>\n",
       "      <td>Tim Bogenn</td>\n",
       "      <td>5.0</td>\n",
       "      <td>eng</td>\n",
       "      <td>128</td>\n",
       "      <td>2</td>\n",
       "      <td>0.0</td>\n",
       "      <td>2003</td>\n",
       "      <td>3</td>\n",
       "    </tr>\n",
       "  </tbody>\n",
       "</table>\n",
       "</div>"
      ],
      "text/plain": [
       "                                                    title  \\\n",
       "bookID                                                      \n",
       "2034                              Comoediae 1: Acharenses   \n",
       "2560                    Willem de Kooning: Late Paintings   \n",
       "2843    Literature Circle Guide: Bridge to Terabithia:...   \n",
       "4287                                   Middlesex Borough    \n",
       "14741   Zone of the Enders: The 2nd Runner Official St...   \n",
       "\n",
       "                                     authors  average_rating language_code  \\\n",
       "bookID                                                                       \n",
       "2034                            Aristophanes             5.0           grc   \n",
       "2560                         Julie Sylvester             5.0           eng   \n",
       "2843                          Tara MacCarthy             5.0           eng   \n",
       "4287    Middlesex Borough Heritage Committee             5.0           eng   \n",
       "14741                             Tim Bogenn             5.0           eng   \n",
       "\n",
       "          num_pages  ratings_count  text_reviews_count  year  month  \n",
       "bookID                                                               \n",
       "2034            364              0                 0.0  1922      2  \n",
       "2560             83              1                 0.0  2006      9  \n",
       "2843             32              4                 1.0  2002      1  \n",
       "4287            128              2                 0.0  2003      3  \n",
       "14741           128              2                 0.0  2003      3  "
      ]
     },
     "execution_count": 807,
     "metadata": {},
     "output_type": "execute_result"
    }
   ],
   "source": [
    "books_df.head()"
   ]
  },
  {
   "cell_type": "code",
   "execution_count": 849,
   "id": "4da408ba",
   "metadata": {},
   "outputs": [
    {
     "data": {
      "text/html": [
       "<div>\n",
       "<style scoped>\n",
       "    .dataframe tbody tr th:only-of-type {\n",
       "        vertical-align: middle;\n",
       "    }\n",
       "\n",
       "    .dataframe tbody tr th {\n",
       "        vertical-align: top;\n",
       "    }\n",
       "\n",
       "    .dataframe thead th {\n",
       "        text-align: right;\n",
       "    }\n",
       "</style>\n",
       "<table border=\"1\" class=\"dataframe\">\n",
       "  <thead>\n",
       "    <tr style=\"text-align: right;\">\n",
       "      <th></th>\n",
       "      <th>title</th>\n",
       "      <th>average_rating</th>\n",
       "    </tr>\n",
       "  </thead>\n",
       "  <tbody>\n",
       "    <tr>\n",
       "      <th>960</th>\n",
       "      <td>Bill Gates: Computer Legend</td>\n",
       "      <td>5.0</td>\n",
       "    </tr>\n",
       "    <tr>\n",
       "      <th>1200</th>\n",
       "      <td>Bulgakov's the Master and Margarita: The Text ...</td>\n",
       "      <td>5.0</td>\n",
       "    </tr>\n",
       "    <tr>\n",
       "      <th>1543</th>\n",
       "      <td>Colossians and Philemon: A Critical and Exeget...</td>\n",
       "      <td>5.0</td>\n",
       "    </tr>\n",
       "    <tr>\n",
       "      <th>1559</th>\n",
       "      <td>Comoediae 1: Acharenses</td>\n",
       "      <td>5.0</td>\n",
       "    </tr>\n",
       "    <tr>\n",
       "      <th>1871</th>\n",
       "      <td>Delwau Duon: Peintiadau Nicholas Evans = Symph...</td>\n",
       "      <td>5.0</td>\n",
       "    </tr>\n",
       "    <tr>\n",
       "      <th>2461</th>\n",
       "      <td>Fanning the Flame: Bible Cross and Mission</td>\n",
       "      <td>5.0</td>\n",
       "    </tr>\n",
       "    <tr>\n",
       "      <th>3184</th>\n",
       "      <td>His Princess Devotional: A Royal Encounter Wit...</td>\n",
       "      <td>5.0</td>\n",
       "    </tr>\n",
       "    <tr>\n",
       "      <th>4096</th>\n",
       "      <td>Literature Circle Guide: Bridge to Terabithia:...</td>\n",
       "      <td>5.0</td>\n",
       "    </tr>\n",
       "    <tr>\n",
       "      <th>4505</th>\n",
       "      <td>Middlesex Borough</td>\n",
       "      <td>5.0</td>\n",
       "    </tr>\n",
       "    <tr>\n",
       "      <th>4999</th>\n",
       "      <td>Oliver Wendell Holmes in Paris: Medicine Theol...</td>\n",
       "      <td>5.0</td>\n",
       "    </tr>\n",
       "  </tbody>\n",
       "</table>\n",
       "</div>"
      ],
      "text/plain": [
       "                                                  title  average_rating\n",
       "960                        Bill Gates: Computer Legend              5.0\n",
       "1200  Bulgakov's the Master and Margarita: The Text ...             5.0\n",
       "1543  Colossians and Philemon: A Critical and Exeget...             5.0\n",
       "1559                            Comoediae 1: Acharenses             5.0\n",
       "1871  Delwau Duon: Peintiadau Nicholas Evans = Symph...             5.0\n",
       "2461         Fanning the Flame: Bible Cross and Mission             5.0\n",
       "3184  His Princess Devotional: A Royal Encounter Wit...             5.0\n",
       "4096  Literature Circle Guide: Bridge to Terabithia:...             5.0\n",
       "4505                                 Middlesex Borough              5.0\n",
       "4999  Oliver Wendell Holmes in Paris: Medicine Theol...             5.0"
      ]
     },
     "execution_count": 849,
     "metadata": {},
     "output_type": "execute_result"
    }
   ],
   "source": [
    "# Find mean(average_rating) from books_df with group by \"title\" \n",
    "title_avg_rat_df = books_df.groupby([\"title\"])[\"average_rating\"].mean()\n",
    "# Convert the groupby result into a dataframe\n",
    "title_df = title_avg_rat_df.to_frame().reset_index()\n",
    "title_df.sort_values([\"average_rating\",\"title\"],ascending=[False,True]).head(10)"
   ]
  },
  {
   "cell_type": "code",
   "execution_count": 850,
   "id": "d7d135f9",
   "metadata": {},
   "outputs": [
    {
     "data": {
      "text/plain": [
       "<AxesSubplot:xlabel='average_rating', ylabel='title'>"
      ]
     },
     "execution_count": 850,
     "metadata": {},
     "output_type": "execute_result"
    },
    {
     "data": {
      "image/png": "[encoded data removed]",
      "text/plain": [
       "<Figure size 432x288 with 1 Axes>"
      ]
     },
     "metadata": {
      "needs_background": "light"
     },
     "output_type": "display_data"
    }
   ],
   "source": [
    "# Book titles with the highest average rating\n",
    "title_top_rating = title_df.nlargest(10, ['average_rating']).set_index('title')['average_rating']\n",
    "sns.barplot(x=title_top_rating, y=title_top_rating.index)"
   ]
  },
  {
   "cell_type": "code",
   "execution_count": 852,
   "id": "2829f5ab",
   "metadata": {},
   "outputs": [
    {
     "data": {
      "text/plain": [
       "Text(0.5, 0, 'Total Ratings')"
      ]
     },
     "execution_count": 852,
     "metadata": {},
     "output_type": "execute_result"
    },
    {
     "data": {
      "image/png": "[encoded data removed]",
      "text/plain": [
       "<Figure size 432x288 with 1 Axes>"
      ]
     },
     "metadata": {
      "needs_background": "light"
     },
     "output_type": "display_data"
    }
   ],
   "source": [
    "# authors with highest rated books\n",
    "authors = books_df.nlargest(5, ['ratings_count']).set_index('authors')\n",
    "sns.barplot(y=authors['ratings_count'], x=authors.index, ci = None, hue = authors['title'])\n",
    "plt.xlabel('Total Ratings')"
   ]
  },
  {
   "cell_type": "code",
   "execution_count": 869,
   "id": "a6e05adc",
   "metadata": {},
   "outputs": [
    {
     "data": {
      "image/png": "[encoded data removed]",
      "text/plain": [
       "<Figure size 443.75x360 with 1 Axes>"
      ]
     },
     "metadata": {
      "needs_background": "light"
     },
     "output_type": "display_data"
    }
   ],
   "source": [
    "# Visualize the relationship between Average_rating and num_pages with repect to the language code\n",
    "df_lang=books_df.loc[(books_df['language_code'] == 'eng') | (books_df['language_code'] == 'fre') | (books_df['language_code'] == 'spa') | (books_df['language_code'] == 'ger')]\n",
    "\n",
    "sns.lmplot(x=\"average_rating\", y=\"ratings_count\",hue = \"language_code\",data=df_lang);"
   ]
  },
  {
   "cell_type": "markdown",
   "id": "00325d86",
   "metadata": {},
   "source": [
    "#### 3. Model Training and Evaluation"
   ]
  },
  {
   "cell_type": "markdown",
   "id": "fd72b470",
   "metadata": {},
   "source": [
    "##### Transform categorical data to numeric"
   ]
  },
  {
   "cell_type": "code",
   "execution_count": 715,
   "id": "5ff20000",
   "metadata": {},
   "outputs": [],
   "source": [
    "# Remove titles that are non ASCII characters\n",
    "books_df = books_df.loc[~((books_df['title'].str.contains(r'[^\\x00-\\x7F]')) & ((books_df['language_code'] == 'jpn') | (books_df['language_code'] == 'zho')))]"
   ]
  },
  {
   "cell_type": "code",
   "execution_count": 716,
   "id": "92b417b6",
   "metadata": {},
   "outputs": [],
   "source": [
    "# Select top 4 counts for \"language_code\"\n",
    "df_processed = books_df.loc[(books_df['language_code'] == 'eng') | (books_df['language_code'] == 'fre') | (books_df['language_code'] == 'spa') | (books_df['language_code'] == 'ger')]"
   ]
  },
  {
   "cell_type": "code",
   "execution_count": 717,
   "id": "f59c358c",
   "metadata": {},
   "outputs": [],
   "source": [
    "# this is a way to explicit the \"language_code\" column by transforming it to 4 columns corresponding to each of its values\n",
    "# this is known as encoding\n",
    "df_processed = pd.concat([df_processed,pd.get_dummies(df_processed.language_code)],axis=1).drop(columns=\"language_code\")"
   ]
  },
  {
   "cell_type": "code",
   "execution_count": 718,
   "id": "14760fbe",
   "metadata": {},
   "outputs": [
    {
     "data": {
      "text/html": [
       "<div>\n",
       "<style scoped>\n",
       "    .dataframe tbody tr th:only-of-type {\n",
       "        vertical-align: middle;\n",
       "    }\n",
       "\n",
       "    .dataframe tbody tr th {\n",
       "        vertical-align: top;\n",
       "    }\n",
       "\n",
       "    .dataframe thead th {\n",
       "        text-align: right;\n",
       "    }\n",
       "</style>\n",
       "<table border=\"1\" class=\"dataframe\">\n",
       "  <thead>\n",
       "    <tr style=\"text-align: right;\">\n",
       "      <th></th>\n",
       "      <th>title</th>\n",
       "      <th>authors</th>\n",
       "      <th>average_rating</th>\n",
       "      <th>num_pages</th>\n",
       "      <th>ratings_count</th>\n",
       "      <th>text_reviews_count</th>\n",
       "      <th>year</th>\n",
       "      <th>month</th>\n",
       "      <th>eng</th>\n",
       "      <th>fre</th>\n",
       "      <th>ger</th>\n",
       "      <th>spa</th>\n",
       "    </tr>\n",
       "    <tr>\n",
       "      <th>bookID</th>\n",
       "      <th></th>\n",
       "      <th></th>\n",
       "      <th></th>\n",
       "      <th></th>\n",
       "      <th></th>\n",
       "      <th></th>\n",
       "      <th></th>\n",
       "      <th></th>\n",
       "      <th></th>\n",
       "      <th></th>\n",
       "      <th></th>\n",
       "      <th></th>\n",
       "    </tr>\n",
       "  </thead>\n",
       "  <tbody>\n",
       "    <tr>\n",
       "      <th>2560</th>\n",
       "      <td>Willem de Kooning: Late Paintings</td>\n",
       "      <td>Julie Sylvester</td>\n",
       "      <td>5.0</td>\n",
       "      <td>83</td>\n",
       "      <td>1</td>\n",
       "      <td>0.0</td>\n",
       "      <td>2006</td>\n",
       "      <td>9</td>\n",
       "      <td>1</td>\n",
       "      <td>0</td>\n",
       "      <td>0</td>\n",
       "      <td>0</td>\n",
       "    </tr>\n",
       "    <tr>\n",
       "      <th>2843</th>\n",
       "      <td>Literature Circle Guide: Bridge to Terabithia:...</td>\n",
       "      <td>Tara MacCarthy</td>\n",
       "      <td>5.0</td>\n",
       "      <td>32</td>\n",
       "      <td>4</td>\n",
       "      <td>1.0</td>\n",
       "      <td>2002</td>\n",
       "      <td>1</td>\n",
       "      <td>1</td>\n",
       "      <td>0</td>\n",
       "      <td>0</td>\n",
       "      <td>0</td>\n",
       "    </tr>\n",
       "    <tr>\n",
       "      <th>4287</th>\n",
       "      <td>Middlesex Borough</td>\n",
       "      <td>Middlesex Borough Heritage Committee</td>\n",
       "      <td>5.0</td>\n",
       "      <td>128</td>\n",
       "      <td>2</td>\n",
       "      <td>0.0</td>\n",
       "      <td>2003</td>\n",
       "      <td>3</td>\n",
       "      <td>1</td>\n",
       "      <td>0</td>\n",
       "      <td>0</td>\n",
       "      <td>0</td>\n",
       "    </tr>\n",
       "    <tr>\n",
       "      <th>14741</th>\n",
       "      <td>Zone of the Enders: The 2nd Runner Official St...</td>\n",
       "      <td>Tim Bogenn</td>\n",
       "      <td>5.0</td>\n",
       "      <td>128</td>\n",
       "      <td>2</td>\n",
       "      <td>0.0</td>\n",
       "      <td>2003</td>\n",
       "      <td>3</td>\n",
       "      <td>1</td>\n",
       "      <td>0</td>\n",
       "      <td>0</td>\n",
       "      <td>0</td>\n",
       "    </tr>\n",
       "    <tr>\n",
       "      <th>17224</th>\n",
       "      <td>The Diamond Color Meditation: Color Pathway to...</td>\n",
       "      <td>John  Diamond</td>\n",
       "      <td>5.0</td>\n",
       "      <td>74</td>\n",
       "      <td>5</td>\n",
       "      <td>3.0</td>\n",
       "      <td>2006</td>\n",
       "      <td>2</td>\n",
       "      <td>1</td>\n",
       "      <td>0</td>\n",
       "      <td>0</td>\n",
       "      <td>0</td>\n",
       "    </tr>\n",
       "    <tr>\n",
       "      <th>...</th>\n",
       "      <td>...</td>\n",
       "      <td>...</td>\n",
       "      <td>...</td>\n",
       "      <td>...</td>\n",
       "      <td>...</td>\n",
       "      <td>...</td>\n",
       "      <td>...</td>\n",
       "      <td>...</td>\n",
       "      <td>...</td>\n",
       "      <td>...</td>\n",
       "      <td>...</td>\n",
       "      <td>...</td>\n",
       "    </tr>\n",
       "    <tr>\n",
       "      <th>37467</th>\n",
       "      <td>Classroom Interactions as Cross-Cultural Encou...</td>\n",
       "      <td>Jasmine C.M. Luk</td>\n",
       "      <td>0.0</td>\n",
       "      <td>241</td>\n",
       "      <td>0</td>\n",
       "      <td>0.0</td>\n",
       "      <td>2006</td>\n",
       "      <td>8</td>\n",
       "      <td>1</td>\n",
       "      <td>0</td>\n",
       "      <td>0</td>\n",
       "      <td>0</td>\n",
       "    </tr>\n",
       "    <tr>\n",
       "      <th>41044</th>\n",
       "      <td>Day and Night</td>\n",
       "      <td>Better Homes and Gardens</td>\n",
       "      <td>0.0</td>\n",
       "      <td>32</td>\n",
       "      <td>0</td>\n",
       "      <td>1.0</td>\n",
       "      <td>1989</td>\n",
       "      <td>3</td>\n",
       "      <td>1</td>\n",
       "      <td>0</td>\n",
       "      <td>0</td>\n",
       "      <td>0</td>\n",
       "    </tr>\n",
       "    <tr>\n",
       "      <th>42758</th>\n",
       "      <td>The Fantastic Vampire: Studies in the Children...</td>\n",
       "      <td>James Craig Holte</td>\n",
       "      <td>0.0</td>\n",
       "      <td>176</td>\n",
       "      <td>0</td>\n",
       "      <td>0.0</td>\n",
       "      <td>2002</td>\n",
       "      <td>3</td>\n",
       "      <td>1</td>\n",
       "      <td>0</td>\n",
       "      <td>0</td>\n",
       "      <td>0</td>\n",
       "    </tr>\n",
       "    <tr>\n",
       "      <th>44705</th>\n",
       "      <td>The Leadership Challenge: Skills for Taking Ch...</td>\n",
       "      <td>Warren G. Bennis</td>\n",
       "      <td>0.0</td>\n",
       "      <td>60</td>\n",
       "      <td>0</td>\n",
       "      <td>0.0</td>\n",
       "      <td>1985</td>\n",
       "      <td>12</td>\n",
       "      <td>1</td>\n",
       "      <td>0</td>\n",
       "      <td>0</td>\n",
       "      <td>0</td>\n",
       "    </tr>\n",
       "    <tr>\n",
       "      <th>45259</th>\n",
       "      <td>Anthony Thwaite: In Conversation With Peter Da...</td>\n",
       "      <td>Peter  Dale</td>\n",
       "      <td>0.0</td>\n",
       "      <td>96</td>\n",
       "      <td>0</td>\n",
       "      <td>0.0</td>\n",
       "      <td>1999</td>\n",
       "      <td>12</td>\n",
       "      <td>1</td>\n",
       "      <td>0</td>\n",
       "      <td>0</td>\n",
       "      <td>0</td>\n",
       "    </tr>\n",
       "  </tbody>\n",
       "</table>\n",
       "<p>10996 rows × 12 columns</p>\n",
       "</div>"
      ],
      "text/plain": [
       "                                                    title  \\\n",
       "bookID                                                      \n",
       "2560                    Willem de Kooning: Late Paintings   \n",
       "2843    Literature Circle Guide: Bridge to Terabithia:...   \n",
       "4287                                   Middlesex Borough    \n",
       "14741   Zone of the Enders: The 2nd Runner Official St...   \n",
       "17224   The Diamond Color Meditation: Color Pathway to...   \n",
       "...                                                   ...   \n",
       "37467   Classroom Interactions as Cross-Cultural Encou...   \n",
       "41044                                       Day and Night   \n",
       "42758   The Fantastic Vampire: Studies in the Children...   \n",
       "44705   The Leadership Challenge: Skills for Taking Ch...   \n",
       "45259   Anthony Thwaite: In Conversation With Peter Da...   \n",
       "\n",
       "                                     authors  average_rating    num_pages  \\\n",
       "bookID                                                                      \n",
       "2560                         Julie Sylvester             5.0           83   \n",
       "2843                          Tara MacCarthy             5.0           32   \n",
       "4287    Middlesex Borough Heritage Committee             5.0          128   \n",
       "14741                             Tim Bogenn             5.0          128   \n",
       "17224                          John  Diamond             5.0           74   \n",
       "...                                      ...             ...          ...   \n",
       "37467                       Jasmine C.M. Luk             0.0          241   \n",
       "41044               Better Homes and Gardens             0.0           32   \n",
       "42758                      James Craig Holte             0.0          176   \n",
       "44705                       Warren G. Bennis             0.0           60   \n",
       "45259                            Peter  Dale             0.0           96   \n",
       "\n",
       "        ratings_count  text_reviews_count  year  month  eng  fre  ger  spa  \n",
       "bookID                                                                      \n",
       "2560                1                 0.0  2006      9    1    0    0    0  \n",
       "2843                4                 1.0  2002      1    1    0    0    0  \n",
       "4287                2                 0.0  2003      3    1    0    0    0  \n",
       "14741               2                 0.0  2003      3    1    0    0    0  \n",
       "17224               5                 3.0  2006      2    1    0    0    0  \n",
       "...               ...                 ...   ...    ...  ...  ...  ...  ...  \n",
       "37467               0                 0.0  2006      8    1    0    0    0  \n",
       "41044               0                 1.0  1989      3    1    0    0    0  \n",
       "42758               0                 0.0  2002      3    1    0    0    0  \n",
       "44705               0                 0.0  1985     12    1    0    0    0  \n",
       "45259               0                 0.0  1999     12    1    0    0    0  \n",
       "\n",
       "[10996 rows x 12 columns]"
      ]
     },
     "execution_count": 718,
     "metadata": {},
     "output_type": "execute_result"
    }
   ],
   "source": [
    "df_processed"
   ]
  },
  {
   "cell_type": "code",
   "execution_count": 719,
   "id": "ebffb8fc",
   "metadata": {},
   "outputs": [],
   "source": [
    "# convert 'title' column to numeric\n",
    "df_processed['title'] = pd.factorize(df_processed['title'])[0]"
   ]
  },
  {
   "cell_type": "code",
   "execution_count": 720,
   "id": "8a5f1474",
   "metadata": {},
   "outputs": [],
   "source": [
    "# convert 'authors' column to numeric\n",
    "df_processed['authors'] = pd.factorize(df_processed['authors'])[0]"
   ]
  },
  {
   "cell_type": "code",
   "execution_count": 721,
   "id": "429d865e",
   "metadata": {},
   "outputs": [
    {
     "data": {
      "text/html": [
       "<div>\n",
       "<style scoped>\n",
       "    .dataframe tbody tr th:only-of-type {\n",
       "        vertical-align: middle;\n",
       "    }\n",
       "\n",
       "    .dataframe tbody tr th {\n",
       "        vertical-align: top;\n",
       "    }\n",
       "\n",
       "    .dataframe thead th {\n",
       "        text-align: right;\n",
       "    }\n",
       "</style>\n",
       "<table border=\"1\" class=\"dataframe\">\n",
       "  <thead>\n",
       "    <tr style=\"text-align: right;\">\n",
       "      <th></th>\n",
       "      <th>title</th>\n",
       "      <th>authors</th>\n",
       "      <th>average_rating</th>\n",
       "      <th>num_pages</th>\n",
       "      <th>ratings_count</th>\n",
       "      <th>text_reviews_count</th>\n",
       "      <th>year</th>\n",
       "      <th>month</th>\n",
       "      <th>eng</th>\n",
       "      <th>fre</th>\n",
       "      <th>ger</th>\n",
       "      <th>spa</th>\n",
       "    </tr>\n",
       "    <tr>\n",
       "      <th>bookID</th>\n",
       "      <th></th>\n",
       "      <th></th>\n",
       "      <th></th>\n",
       "      <th></th>\n",
       "      <th></th>\n",
       "      <th></th>\n",
       "      <th></th>\n",
       "      <th></th>\n",
       "      <th></th>\n",
       "      <th></th>\n",
       "      <th></th>\n",
       "      <th></th>\n",
       "    </tr>\n",
       "  </thead>\n",
       "  <tbody>\n",
       "    <tr>\n",
       "      <th>2560</th>\n",
       "      <td>0</td>\n",
       "      <td>0</td>\n",
       "      <td>5.0</td>\n",
       "      <td>83</td>\n",
       "      <td>1</td>\n",
       "      <td>0.0</td>\n",
       "      <td>2006</td>\n",
       "      <td>9</td>\n",
       "      <td>1</td>\n",
       "      <td>0</td>\n",
       "      <td>0</td>\n",
       "      <td>0</td>\n",
       "    </tr>\n",
       "    <tr>\n",
       "      <th>2843</th>\n",
       "      <td>1</td>\n",
       "      <td>1</td>\n",
       "      <td>5.0</td>\n",
       "      <td>32</td>\n",
       "      <td>4</td>\n",
       "      <td>1.0</td>\n",
       "      <td>2002</td>\n",
       "      <td>1</td>\n",
       "      <td>1</td>\n",
       "      <td>0</td>\n",
       "      <td>0</td>\n",
       "      <td>0</td>\n",
       "    </tr>\n",
       "    <tr>\n",
       "      <th>4287</th>\n",
       "      <td>2</td>\n",
       "      <td>2</td>\n",
       "      <td>5.0</td>\n",
       "      <td>128</td>\n",
       "      <td>2</td>\n",
       "      <td>0.0</td>\n",
       "      <td>2003</td>\n",
       "      <td>3</td>\n",
       "      <td>1</td>\n",
       "      <td>0</td>\n",
       "      <td>0</td>\n",
       "      <td>0</td>\n",
       "    </tr>\n",
       "    <tr>\n",
       "      <th>14741</th>\n",
       "      <td>3</td>\n",
       "      <td>3</td>\n",
       "      <td>5.0</td>\n",
       "      <td>128</td>\n",
       "      <td>2</td>\n",
       "      <td>0.0</td>\n",
       "      <td>2003</td>\n",
       "      <td>3</td>\n",
       "      <td>1</td>\n",
       "      <td>0</td>\n",
       "      <td>0</td>\n",
       "      <td>0</td>\n",
       "    </tr>\n",
       "    <tr>\n",
       "      <th>17224</th>\n",
       "      <td>4</td>\n",
       "      <td>4</td>\n",
       "      <td>5.0</td>\n",
       "      <td>74</td>\n",
       "      <td>5</td>\n",
       "      <td>3.0</td>\n",
       "      <td>2006</td>\n",
       "      <td>2</td>\n",
       "      <td>1</td>\n",
       "      <td>0</td>\n",
       "      <td>0</td>\n",
       "      <td>0</td>\n",
       "    </tr>\n",
       "    <tr>\n",
       "      <th>...</th>\n",
       "      <td>...</td>\n",
       "      <td>...</td>\n",
       "      <td>...</td>\n",
       "      <td>...</td>\n",
       "      <td>...</td>\n",
       "      <td>...</td>\n",
       "      <td>...</td>\n",
       "      <td>...</td>\n",
       "      <td>...</td>\n",
       "      <td>...</td>\n",
       "      <td>...</td>\n",
       "      <td>...</td>\n",
       "    </tr>\n",
       "    <tr>\n",
       "      <th>37467</th>\n",
       "      <td>10137</td>\n",
       "      <td>4203</td>\n",
       "      <td>0.0</td>\n",
       "      <td>241</td>\n",
       "      <td>0</td>\n",
       "      <td>0.0</td>\n",
       "      <td>2006</td>\n",
       "      <td>8</td>\n",
       "      <td>1</td>\n",
       "      <td>0</td>\n",
       "      <td>0</td>\n",
       "      <td>0</td>\n",
       "    </tr>\n",
       "    <tr>\n",
       "      <th>41044</th>\n",
       "      <td>10138</td>\n",
       "      <td>4204</td>\n",
       "      <td>0.0</td>\n",
       "      <td>32</td>\n",
       "      <td>0</td>\n",
       "      <td>1.0</td>\n",
       "      <td>1989</td>\n",
       "      <td>3</td>\n",
       "      <td>1</td>\n",
       "      <td>0</td>\n",
       "      <td>0</td>\n",
       "      <td>0</td>\n",
       "    </tr>\n",
       "    <tr>\n",
       "      <th>42758</th>\n",
       "      <td>10139</td>\n",
       "      <td>4205</td>\n",
       "      <td>0.0</td>\n",
       "      <td>176</td>\n",
       "      <td>0</td>\n",
       "      <td>0.0</td>\n",
       "      <td>2002</td>\n",
       "      <td>3</td>\n",
       "      <td>1</td>\n",
       "      <td>0</td>\n",
       "      <td>0</td>\n",
       "      <td>0</td>\n",
       "    </tr>\n",
       "    <tr>\n",
       "      <th>44705</th>\n",
       "      <td>10140</td>\n",
       "      <td>4206</td>\n",
       "      <td>0.0</td>\n",
       "      <td>60</td>\n",
       "      <td>0</td>\n",
       "      <td>0.0</td>\n",
       "      <td>1985</td>\n",
       "      <td>12</td>\n",
       "      <td>1</td>\n",
       "      <td>0</td>\n",
       "      <td>0</td>\n",
       "      <td>0</td>\n",
       "    </tr>\n",
       "    <tr>\n",
       "      <th>45259</th>\n",
       "      <td>10141</td>\n",
       "      <td>4207</td>\n",
       "      <td>0.0</td>\n",
       "      <td>96</td>\n",
       "      <td>0</td>\n",
       "      <td>0.0</td>\n",
       "      <td>1999</td>\n",
       "      <td>12</td>\n",
       "      <td>1</td>\n",
       "      <td>0</td>\n",
       "      <td>0</td>\n",
       "      <td>0</td>\n",
       "    </tr>\n",
       "  </tbody>\n",
       "</table>\n",
       "<p>10996 rows × 12 columns</p>\n",
       "</div>"
      ],
      "text/plain": [
       "        title  authors  average_rating    num_pages  ratings_count  \\\n",
       "bookID                                                               \n",
       "2560        0        0             5.0           83              1   \n",
       "2843        1        1             5.0           32              4   \n",
       "4287        2        2             5.0          128              2   \n",
       "14741       3        3             5.0          128              2   \n",
       "17224       4        4             5.0           74              5   \n",
       "...       ...      ...             ...          ...            ...   \n",
       "37467   10137     4203             0.0          241              0   \n",
       "41044   10138     4204             0.0           32              0   \n",
       "42758   10139     4205             0.0          176              0   \n",
       "44705   10140     4206             0.0           60              0   \n",
       "45259   10141     4207             0.0           96              0   \n",
       "\n",
       "        text_reviews_count  year  month  eng  fre  ger  spa  \n",
       "bookID                                                       \n",
       "2560                   0.0  2006      9    1    0    0    0  \n",
       "2843                   1.0  2002      1    1    0    0    0  \n",
       "4287                   0.0  2003      3    1    0    0    0  \n",
       "14741                  0.0  2003      3    1    0    0    0  \n",
       "17224                  3.0  2006      2    1    0    0    0  \n",
       "...                    ...   ...    ...  ...  ...  ...  ...  \n",
       "37467                  0.0  2006      8    1    0    0    0  \n",
       "41044                  1.0  1989      3    1    0    0    0  \n",
       "42758                  0.0  2002      3    1    0    0    0  \n",
       "44705                  0.0  1985     12    1    0    0    0  \n",
       "45259                  0.0  1999     12    1    0    0    0  \n",
       "\n",
       "[10996 rows x 12 columns]"
      ]
     },
     "execution_count": 721,
     "metadata": {},
     "output_type": "execute_result"
    }
   ],
   "source": [
    "# View the dataframe\n",
    "df_processed"
   ]
  },
  {
   "cell_type": "code",
   "execution_count": 803,
   "id": "781b50ec",
   "metadata": {},
   "outputs": [],
   "source": [
    "df_processed.to_csv('book_data_cleaned.csv', index=False)"
   ]
  },
  {
   "cell_type": "markdown",
   "id": "70714530",
   "metadata": {},
   "source": [
    "#####  Split the data into Train and Test "
   ]
  },
  {
   "cell_type": "code",
   "execution_count": 518,
   "id": "7298034e",
   "metadata": {},
   "outputs": [],
   "source": [
    "# Split the data into train and test for the model\n",
    "from sklearn.model_selection import train_test_split "
   ]
  },
  {
   "cell_type": "code",
   "execution_count": 722,
   "id": "8e84707a",
   "metadata": {},
   "outputs": [],
   "source": [
    "# the size of the test is 20% and the train is 80%\n",
    "df_train, df_test = train_test_split(df_processed,test_size = 0.2)"
   ]
  },
  {
   "cell_type": "code",
   "execution_count": 727,
   "id": "da89fad4",
   "metadata": {},
   "outputs": [
    {
     "data": {
      "text/plain": [
       "10996"
      ]
     },
     "execution_count": 727,
     "metadata": {},
     "output_type": "execute_result"
    }
   ],
   "source": [
    "len(df_processed)"
   ]
  },
  {
   "cell_type": "code",
   "execution_count": 728,
   "id": "99ec1993",
   "metadata": {},
   "outputs": [
    {
     "data": {
      "text/plain": [
       "8796"
      ]
     },
     "execution_count": 728,
     "metadata": {},
     "output_type": "execute_result"
    }
   ],
   "source": [
    "len(df_train)"
   ]
  },
  {
   "cell_type": "code",
   "execution_count": 729,
   "id": "8dca8e6c",
   "metadata": {},
   "outputs": [
    {
     "data": {
      "text/plain": [
       "2200"
      ]
     },
     "execution_count": 729,
     "metadata": {},
     "output_type": "execute_result"
    }
   ],
   "source": [
    "len(df_test)"
   ]
  },
  {
   "cell_type": "code",
   "execution_count": 732,
   "id": "170642e1",
   "metadata": {},
   "outputs": [
    {
     "name": "stdout",
     "output_type": "stream",
     "text": [
      "3.9319516187704617\n",
      "3.9325397908140065\n",
      "3.9296\n"
     ]
    }
   ],
   "source": [
    "# Check the data is ramdomly selected\n",
    "print(df_processed.average_rating.mean())\n",
    "print(df_train.average_rating.mean())\n",
    "print(df_test.average_rating.mean())"
   ]
  },
  {
   "cell_type": "code",
   "execution_count": 733,
   "id": "821ab19a",
   "metadata": {},
   "outputs": [
    {
     "data": {
      "text/plain": [
       "Index(['title', 'authors', 'average_rating', '  num_pages', 'ratings_count',\n",
       "       'text_reviews_count', 'year', 'month', 'eng', 'fre', 'ger', 'spa'],\n",
       "      dtype='object')"
      ]
     },
     "execution_count": 733,
     "metadata": {},
     "output_type": "execute_result"
    }
   ],
   "source": [
    "df_train.columns"
   ]
  },
  {
   "cell_type": "code",
   "execution_count": 744,
   "id": "6a8ae8ee",
   "metadata": {},
   "outputs": [],
   "source": [
    "# get the values of the columns for the training data\n",
    "X_train = df_train.loc[:,['title', 'authors', '  num_pages', 'ratings_count', 'text_reviews_count','year','month','eng','fre','ger','spa']].values\n",
    "y_train = df_train.average_rating.values.round(1)"
   ]
  },
  {
   "cell_type": "code",
   "execution_count": 739,
   "id": "76958761",
   "metadata": {},
   "outputs": [
    {
     "name": "stdout",
     "output_type": "stream",
     "text": [
      "[[6.160e+02 3.218e+03 2.370e+02 ... 6.000e+00 1.000e+00 0.000e+00]\n",
      " [5.288e+03 2.498e+03 4.000e+02 ... 3.000e+00 1.000e+00 0.000e+00]\n",
      " [2.741e+03 6.830e+02 4.350e+02 ... 1.000e+01 1.000e+00 0.000e+00]\n",
      " ...\n",
      " [3.774e+03 1.145e+03 5.000e+00 ... 2.000e+00 1.000e+00 0.000e+00]\n",
      " [3.538e+03 1.010e+02 6.880e+02 ... 6.000e+00 1.000e+00 0.000e+00]\n",
      " [3.205e+03 3.230e+02 2.160e+02 ... 7.000e+00 1.000e+00 0.000e+00]]\n"
     ]
    }
   ],
   "source": [
    "print(X_train)"
   ]
  },
  {
   "cell_type": "code",
   "execution_count": 745,
   "id": "ef79f214",
   "metadata": {},
   "outputs": [
    {
     "name": "stdout",
     "output_type": "stream",
     "text": [
      "[3.8 3.9 4.1 ... 4.  4.1 4.1]\n"
     ]
    }
   ],
   "source": [
    "print(y_train)"
   ]
  },
  {
   "cell_type": "code",
   "execution_count": 747,
   "id": "00cef1f2",
   "metadata": {},
   "outputs": [],
   "source": [
    "# get the values of the columns for the test data\n",
    "X_test = df_test.loc[:,['title', 'authors', '  num_pages', 'ratings_count', 'text_reviews_count','year','month','eng','fre','ger','spa']].values\n",
    "y_test = df_test.average_rating.values.round(1)"
   ]
  },
  {
   "cell_type": "code",
   "execution_count": 743,
   "id": "6e68da40",
   "metadata": {},
   "outputs": [
    {
     "name": "stdout",
     "output_type": "stream",
     "text": [
      "[3.8 3.8 2.  ... 3.8 4.  4. ]\n"
     ]
    }
   ],
   "source": [
    "print(y_test)"
   ]
  },
  {
   "cell_type": "markdown",
   "id": "79d0b12f",
   "metadata": {},
   "source": [
    "##### Evaluate the Model"
   ]
  },
  {
   "cell_type": "code",
   "execution_count": 748,
   "id": "bdf24e4d",
   "metadata": {},
   "outputs": [],
   "source": [
    "# importing module: Liner Regression\n",
    "from sklearn.linear_model import LinearRegression"
   ]
  },
  {
   "cell_type": "code",
   "execution_count": 749,
   "id": "c338b2e9",
   "metadata": {},
   "outputs": [],
   "source": [
    "# creating an object of LinearRegression class\n",
    "lr_model = LinearRegression()"
   ]
  },
  {
   "cell_type": "code",
   "execution_count": 773,
   "id": "d451c8c2",
   "metadata": {},
   "outputs": [
    {
     "data": {
      "text/plain": [
       "LinearRegression()"
      ]
     },
     "execution_count": 773,
     "metadata": {},
     "output_type": "execute_result"
    }
   ],
   "source": [
    "# here we train the model on the training data\n",
    "lr_model.fit(X=X_train, y=y_train)"
   ]
  },
  {
   "cell_type": "code",
   "execution_count": 752,
   "id": "09978f78",
   "metadata": {},
   "outputs": [],
   "source": [
    "y_test_predicted = lr_model.predict(X_test)"
   ]
  },
  {
   "cell_type": "code",
   "execution_count": 758,
   "id": "8ea486f0",
   "metadata": {},
   "outputs": [],
   "source": [
    "# Approximate to 1 decimal place\n",
    "y_test_predicted = y_test_predicted.round(1)"
   ]
  },
  {
   "cell_type": "code",
   "execution_count": 789,
   "id": "1f02526b",
   "metadata": {},
   "outputs": [
    {
     "data": {
      "text/html": [
       "<div>\n",
       "<style scoped>\n",
       "    .dataframe tbody tr th:only-of-type {\n",
       "        vertical-align: middle;\n",
       "    }\n",
       "\n",
       "    .dataframe tbody tr th {\n",
       "        vertical-align: top;\n",
       "    }\n",
       "\n",
       "    .dataframe thead th {\n",
       "        text-align: right;\n",
       "    }\n",
       "</style>\n",
       "<table border=\"1\" class=\"dataframe\">\n",
       "  <thead>\n",
       "    <tr style=\"text-align: right;\">\n",
       "      <th></th>\n",
       "      <th>Actual</th>\n",
       "      <th>Predicted</th>\n",
       "    </tr>\n",
       "  </thead>\n",
       "  <tbody>\n",
       "    <tr>\n",
       "      <th>0</th>\n",
       "      <td>3.8</td>\n",
       "      <td>3.7</td>\n",
       "    </tr>\n",
       "    <tr>\n",
       "      <th>1</th>\n",
       "      <td>3.8</td>\n",
       "      <td>3.8</td>\n",
       "    </tr>\n",
       "    <tr>\n",
       "      <th>2</th>\n",
       "      <td>2.0</td>\n",
       "      <td>3.4</td>\n",
       "    </tr>\n",
       "    <tr>\n",
       "      <th>3</th>\n",
       "      <td>4.4</td>\n",
       "      <td>4.4</td>\n",
       "    </tr>\n",
       "    <tr>\n",
       "      <th>4</th>\n",
       "      <td>4.3</td>\n",
       "      <td>4.3</td>\n",
       "    </tr>\n",
       "    <tr>\n",
       "      <th>5</th>\n",
       "      <td>3.9</td>\n",
       "      <td>3.8</td>\n",
       "    </tr>\n",
       "    <tr>\n",
       "      <th>6</th>\n",
       "      <td>4.1</td>\n",
       "      <td>4.2</td>\n",
       "    </tr>\n",
       "    <tr>\n",
       "      <th>7</th>\n",
       "      <td>1.0</td>\n",
       "      <td>3.5</td>\n",
       "    </tr>\n",
       "    <tr>\n",
       "      <th>8</th>\n",
       "      <td>4.2</td>\n",
       "      <td>4.2</td>\n",
       "    </tr>\n",
       "    <tr>\n",
       "      <th>9</th>\n",
       "      <td>3.9</td>\n",
       "      <td>3.9</td>\n",
       "    </tr>\n",
       "  </tbody>\n",
       "</table>\n",
       "</div>"
      ],
      "text/plain": [
       "   Actual  Predicted\n",
       "0     3.8        3.7\n",
       "1     3.8        3.8\n",
       "2     2.0        3.4\n",
       "3     4.4        4.4\n",
       "4     4.3        4.3\n",
       "5     3.9        3.8\n",
       "6     4.1        4.2\n",
       "7     1.0        3.5\n",
       "8     4.2        4.2\n",
       "9     3.9        3.9"
      ]
     },
     "execution_count": 789,
     "metadata": {},
     "output_type": "execute_result"
    }
   ],
   "source": [
    "# Now compare the actual output values for X_test with the predicted values.\n",
    "pred = pd.DataFrame({'Actual': y_test.tolist(), 'Predicted': y_test_predicted.tolist()}).head(25)\n",
    "pred.head(10)"
   ]
  },
  {
   "cell_type": "code",
   "execution_count": 761,
   "id": "2be0b9fe",
   "metadata": {},
   "outputs": [
    {
     "data": {
      "text/plain": [
       "0.4772727272727273"
      ]
     },
     "execution_count": 761,
     "metadata": {},
     "output_type": "execute_result"
    }
   ],
   "source": [
    "# Check how accurate is the prediction\n",
    "(y_test_predicted == y_test).sum()/len(y_test)"
   ]
  },
  {
   "cell_type": "code",
   "execution_count": 754,
   "id": "51a25f79",
   "metadata": {},
   "outputs": [],
   "source": [
    "# Compute the accuracy of the model\n",
    "from sklearn import metrics\n",
    "from sklearn.metrics import r2_score \n",
    "from sklearn.metrics import mean_squared_error"
   ]
  },
  {
   "cell_type": "code",
   "execution_count": 764,
   "id": "28f88523",
   "metadata": {},
   "outputs": [],
   "source": [
    "# Evalute the performance of the Algorithm\n",
    "score=r2_score(y_test,y_test_predicted)\n",
    "meanError = mean_squared_error(y_test,y_test_predicted)\n",
    "meansquardError = np.sqrt(mean_squared_error(y_test,y_test_predicted))"
   ]
  },
  {
   "cell_type": "code",
   "execution_count": 766,
   "id": "449ef184",
   "metadata": {},
   "outputs": [
    {
     "name": "stdout",
     "output_type": "stream",
     "text": [
      "R-square is 0.6996286923138385\n",
      "mean_sqrd_error is 0.03632727272727272\n",
      "root_mean_squared error is 0.19059714774170342\n"
     ]
    }
   ],
   "source": [
    "print('R-square is',score)\n",
    "print('mean_sqrd_error is',meanError)\n",
    "print('root_mean_squared error is',meansquardError)"
   ]
  },
  {
   "cell_type": "code",
   "execution_count": 767,
   "id": "d0b704a1",
   "metadata": {},
   "outputs": [
    {
     "name": "stdout",
     "output_type": "stream",
     "text": [
      "Intercept: \n",
      " 3.490511708961186\n"
     ]
    }
   ],
   "source": [
    "print('Intercept: \\n', lr_model.intercept_)"
   ]
  },
  {
   "cell_type": "code",
   "execution_count": 768,
   "id": "542b8268",
   "metadata": {},
   "outputs": [
    {
     "name": "stdout",
     "output_type": "stream",
     "text": [
      "Coefficients: \n",
      " [-9.42290918e-05 -1.98186735e-05  1.04631561e-05 -4.79551275e-09\n",
      "  8.35534382e-07  4.75330258e-04  2.11065624e-04 -1.00442892e-02\n",
      "  1.31556085e-03  1.29813706e-02 -4.25264218e-03]\n"
     ]
    }
   ],
   "source": [
    "print('Coefficients: \\n', lr_model.coef_)"
   ]
  },
  {
   "cell_type": "markdown",
   "id": "68c6c4f9",
   "metadata": {},
   "source": [
    "##### Compare the Model"
   ]
  },
  {
   "cell_type": "code",
   "execution_count": 781,
   "id": "4960daf9",
   "metadata": {},
   "outputs": [],
   "source": [
    "# importing module: Random Forest Regressor\n",
    "from sklearn.ensemble import RandomForestRegressor\n",
    "from sklearn import metrics"
   ]
  },
  {
   "cell_type": "code",
   "execution_count": 783,
   "id": "76267961",
   "metadata": {},
   "outputs": [],
   "source": [
    "rf_model = RandomForestRegressor()"
   ]
  },
  {
   "cell_type": "code",
   "execution_count": 784,
   "id": "885be682",
   "metadata": {},
   "outputs": [
    {
     "data": {
      "text/plain": [
       "RandomForestRegressor()"
      ]
     },
     "execution_count": 784,
     "metadata": {},
     "output_type": "execute_result"
    }
   ],
   "source": [
    "rf_model.fit(X=X_train,y=y_train)"
   ]
  },
  {
   "cell_type": "code",
   "execution_count": 785,
   "id": "d44a3abd",
   "metadata": {},
   "outputs": [],
   "source": [
    "y_test_predicted_rf = rf_model.predict(X_test)"
   ]
  },
  {
   "cell_type": "code",
   "execution_count": 795,
   "id": "efae8583",
   "metadata": {},
   "outputs": [],
   "source": [
    "# Approximate to 1 decimal place\n",
    "y_test_predicted_rf = y_test_predicted_rf.round(1)"
   ]
  },
  {
   "cell_type": "code",
   "execution_count": 802,
   "id": "b5b0745d",
   "metadata": {},
   "outputs": [
    {
     "data": {
      "text/html": [
       "<div>\n",
       "<style scoped>\n",
       "    .dataframe tbody tr th:only-of-type {\n",
       "        vertical-align: middle;\n",
       "    }\n",
       "\n",
       "    .dataframe tbody tr th {\n",
       "        vertical-align: top;\n",
       "    }\n",
       "\n",
       "    .dataframe thead th {\n",
       "        text-align: right;\n",
       "    }\n",
       "</style>\n",
       "<table border=\"1\" class=\"dataframe\">\n",
       "  <thead>\n",
       "    <tr style=\"text-align: right;\">\n",
       "      <th></th>\n",
       "      <th>Actual</th>\n",
       "      <th>Predicted</th>\n",
       "    </tr>\n",
       "  </thead>\n",
       "  <tbody>\n",
       "    <tr>\n",
       "      <th>0</th>\n",
       "      <td>3.8</td>\n",
       "      <td>3.8</td>\n",
       "    </tr>\n",
       "    <tr>\n",
       "      <th>1</th>\n",
       "      <td>3.8</td>\n",
       "      <td>3.8</td>\n",
       "    </tr>\n",
       "    <tr>\n",
       "      <th>2</th>\n",
       "      <td>2.0</td>\n",
       "      <td>2.0</td>\n",
       "    </tr>\n",
       "    <tr>\n",
       "      <th>3</th>\n",
       "      <td>4.4</td>\n",
       "      <td>4.4</td>\n",
       "    </tr>\n",
       "    <tr>\n",
       "      <th>4</th>\n",
       "      <td>4.3</td>\n",
       "      <td>4.3</td>\n",
       "    </tr>\n",
       "    <tr>\n",
       "      <th>5</th>\n",
       "      <td>3.9</td>\n",
       "      <td>3.9</td>\n",
       "    </tr>\n",
       "    <tr>\n",
       "      <th>6</th>\n",
       "      <td>4.1</td>\n",
       "      <td>4.1</td>\n",
       "    </tr>\n",
       "    <tr>\n",
       "      <th>7</th>\n",
       "      <td>1.0</td>\n",
       "      <td>1.1</td>\n",
       "    </tr>\n",
       "    <tr>\n",
       "      <th>8</th>\n",
       "      <td>4.2</td>\n",
       "      <td>4.2</td>\n",
       "    </tr>\n",
       "    <tr>\n",
       "      <th>9</th>\n",
       "      <td>3.9</td>\n",
       "      <td>3.9</td>\n",
       "    </tr>\n",
       "  </tbody>\n",
       "</table>\n",
       "</div>"
      ],
      "text/plain": [
       "   Actual  Predicted\n",
       "0     3.8        3.8\n",
       "1     3.8        3.8\n",
       "2     2.0        2.0\n",
       "3     4.4        4.4\n",
       "4     4.3        4.3\n",
       "5     3.9        3.9\n",
       "6     4.1        4.1\n",
       "7     1.0        1.1\n",
       "8     4.2        4.2\n",
       "9     3.9        3.9"
      ]
     },
     "execution_count": 802,
     "metadata": {},
     "output_type": "execute_result"
    }
   ],
   "source": [
    "# Now compare the actual output values for X_test with the predicted values.\n",
    "pred = pd.DataFrame({'Actual': y_test.tolist(), 'Predicted': y_test_predicted_rf.tolist()}).head(25)\n",
    "pred.head(10)"
   ]
  },
  {
   "cell_type": "code",
   "execution_count": 800,
   "id": "8a4439fb",
   "metadata": {},
   "outputs": [
    {
     "data": {
      "text/plain": [
       "0.9804545454545455"
      ]
     },
     "execution_count": 800,
     "metadata": {},
     "output_type": "execute_result"
    }
   ],
   "source": [
    "# Check how accurate is the prediction\n",
    "(y_test_predicted_rf == y_test).sum()/len(y_test)"
   ]
  },
  {
   "cell_type": "code",
   "execution_count": 799,
   "id": "5d38353c",
   "metadata": {},
   "outputs": [],
   "source": [
    "# Evalute the performance of the Algorithm\n",
    "score=r2_score(y_test,y_test_predicted_rf)\n",
    "meanError = mean_squared_error(y_test,y_test_predicted_rf)\n",
    "meansquardError = np.sqrt(mean_squared_error(y_test,y_test_predicted_rf))"
   ]
  },
  {
   "cell_type": "code",
   "execution_count": 787,
   "id": "4389e8e5",
   "metadata": {},
   "outputs": [
    {
     "name": "stdout",
     "output_type": "stream",
     "text": [
      "R-square is 0.9926749803721844\n",
      "mean_sqrd_error is 0.0008858968181818199\n",
      "root_mean_squared error is 0.02976401885132147\n"
     ]
    }
   ],
   "source": [
    "print('R-square is',score)\n",
    "print('mean_sqrd_error is',meanError)\n",
    "print('root_mean_squared error is',meansquardError)"
   ]
  },
  {
   "cell_type": "code",
   "execution_count": null,
   "id": "98855593",
   "metadata": {},
   "outputs": [],
   "source": []
  }
 ],
 "metadata": {
  "kernelspec": {
   "display_name": "Python 3 (ipykernel)",
   "language": "python",
   "name": "python3"
  },
  "language_info": {
   "codemirror_mode": {
    "name": "ipython",
    "version": 3
   },
   "file_extension": ".py",
   "mimetype": "text/x-python",
   "name": "python",
   "nbconvert_exporter": "python",
   "pygments_lexer": "ipython3",
   "version": "3.7.11"
  }
 },
 "nbformat": 4,
 "nbformat_minor": 5
}
